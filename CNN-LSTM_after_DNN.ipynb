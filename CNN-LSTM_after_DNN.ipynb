{
 "cells": [
  {
   "cell_type": "code",
   "execution_count": 1,
   "metadata": {
    "ExecuteTime": {
     "end_time": "2020-07-28T06:04:07.896234Z",
     "start_time": "2020-07-28T06:04:06.901137Z"
    },
    "collapsed": true
   },
   "outputs": [
    {
     "name": "stderr",
     "output_type": "stream",
     "text": [
      "/usr/local/lib/python3.7/dist-packages/tensorflow/python/framework/dtypes.py:516: FutureWarning: Passing (type, 1) or '1type' as a synonym of type is deprecated; in a future version of numpy, it will be understood as (type, (1,)) / '(1,)type'.\n",
      "  _np_qint8 = np.dtype([(\"qint8\", np.int8, 1)])\n",
      "/usr/local/lib/python3.7/dist-packages/tensorflow/python/framework/dtypes.py:517: FutureWarning: Passing (type, 1) or '1type' as a synonym of type is deprecated; in a future version of numpy, it will be understood as (type, (1,)) / '(1,)type'.\n",
      "  _np_quint8 = np.dtype([(\"quint8\", np.uint8, 1)])\n",
      "/usr/local/lib/python3.7/dist-packages/tensorflow/python/framework/dtypes.py:518: FutureWarning: Passing (type, 1) or '1type' as a synonym of type is deprecated; in a future version of numpy, it will be understood as (type, (1,)) / '(1,)type'.\n",
      "  _np_qint16 = np.dtype([(\"qint16\", np.int16, 1)])\n",
      "/usr/local/lib/python3.7/dist-packages/tensorflow/python/framework/dtypes.py:519: FutureWarning: Passing (type, 1) or '1type' as a synonym of type is deprecated; in a future version of numpy, it will be understood as (type, (1,)) / '(1,)type'.\n",
      "  _np_quint16 = np.dtype([(\"quint16\", np.uint16, 1)])\n",
      "/usr/local/lib/python3.7/dist-packages/tensorflow/python/framework/dtypes.py:520: FutureWarning: Passing (type, 1) or '1type' as a synonym of type is deprecated; in a future version of numpy, it will be understood as (type, (1,)) / '(1,)type'.\n",
      "  _np_qint32 = np.dtype([(\"qint32\", np.int32, 1)])\n",
      "/usr/local/lib/python3.7/dist-packages/tensorflow/python/framework/dtypes.py:525: FutureWarning: Passing (type, 1) or '1type' as a synonym of type is deprecated; in a future version of numpy, it will be understood as (type, (1,)) / '(1,)type'.\n",
      "  np_resource = np.dtype([(\"resource\", np.ubyte, 1)])\n",
      "/usr/local/lib/python3.7/dist-packages/tensorboard/compat/tensorflow_stub/dtypes.py:541: FutureWarning: Passing (type, 1) or '1type' as a synonym of type is deprecated; in a future version of numpy, it will be understood as (type, (1,)) / '(1,)type'.\n",
      "  _np_qint8 = np.dtype([(\"qint8\", np.int8, 1)])\n",
      "/usr/local/lib/python3.7/dist-packages/tensorboard/compat/tensorflow_stub/dtypes.py:542: FutureWarning: Passing (type, 1) or '1type' as a synonym of type is deprecated; in a future version of numpy, it will be understood as (type, (1,)) / '(1,)type'.\n",
      "  _np_quint8 = np.dtype([(\"quint8\", np.uint8, 1)])\n",
      "/usr/local/lib/python3.7/dist-packages/tensorboard/compat/tensorflow_stub/dtypes.py:543: FutureWarning: Passing (type, 1) or '1type' as a synonym of type is deprecated; in a future version of numpy, it will be understood as (type, (1,)) / '(1,)type'.\n",
      "  _np_qint16 = np.dtype([(\"qint16\", np.int16, 1)])\n",
      "/usr/local/lib/python3.7/dist-packages/tensorboard/compat/tensorflow_stub/dtypes.py:544: FutureWarning: Passing (type, 1) or '1type' as a synonym of type is deprecated; in a future version of numpy, it will be understood as (type, (1,)) / '(1,)type'.\n",
      "  _np_quint16 = np.dtype([(\"quint16\", np.uint16, 1)])\n",
      "/usr/local/lib/python3.7/dist-packages/tensorboard/compat/tensorflow_stub/dtypes.py:545: FutureWarning: Passing (type, 1) or '1type' as a synonym of type is deprecated; in a future version of numpy, it will be understood as (type, (1,)) / '(1,)type'.\n",
      "  _np_qint32 = np.dtype([(\"qint32\", np.int32, 1)])\n",
      "/usr/local/lib/python3.7/dist-packages/tensorboard/compat/tensorflow_stub/dtypes.py:550: FutureWarning: Passing (type, 1) or '1type' as a synonym of type is deprecated; in a future version of numpy, it will be understood as (type, (1,)) / '(1,)type'.\n",
      "  np_resource = np.dtype([(\"resource\", np.ubyte, 1)])\n",
      "Using TensorFlow backend.\n"
     ]
    }
   ],
   "source": [
    "import tensorflow as tf\n",
    "import pandas as pd\n",
    "import numpy as np\n",
    "import keras.backend.tensorflow_backend as K"
   ]
  },
  {
   "cell_type": "code",
   "execution_count": 2,
   "metadata": {
    "ExecuteTime": {
     "end_time": "2020-07-28T06:04:09.192893Z",
     "start_time": "2020-07-28T06:04:07.897530Z"
    },
    "scrolled": false
   },
   "outputs": [],
   "source": [
    "#dnn_input_data 불러오기 및 인덱스값 'Author'로 변환\n",
    "dnn_input_data = pd.read_csv('DNN_input_data.csv')\n",
    "del dnn_input_data['Unnamed: 0']\n",
    "dnn_input_data = dnn_input_data.set_index('Author')\n",
    "dnn_input_data.drop(['HotelInfo.Name','HotelInfo.HotelID','ReviewID','Business service (e.g., internet access)','Check in / front desk','Title','Content',\n",
    "               'AuthorLocation','Date'],axis='columns',inplace=True)"
   ]
  },
  {
   "cell_type": "markdown",
   "metadata": {},
   "source": [
    "# 함수"
   ]
  },
  {
   "cell_type": "markdown",
   "metadata": {},
   "source": [
    "## UPC 생성"
   ]
  },
  {
   "cell_type": "markdown",
   "metadata": {
    "heading_collapsed": true
   },
   "source": [
    "### 유저리스트 생성"
   ]
  },
  {
   "cell_type": "code",
   "execution_count": 3,
   "metadata": {
    "ExecuteTime": {
     "end_time": "2020-07-28T06:04:09.196047Z",
     "start_time": "2020-07-28T06:04:09.194053Z"
    },
    "hidden": true
   },
   "outputs": [],
   "source": [
    "def user_list_fu(dnn_input_data):\n",
    "    user_list = dnn_input_data.index\n",
    "    user_list = user_list.unique()\n",
    "    return user_list"
   ]
  },
  {
   "cell_type": "markdown",
   "metadata": {},
   "source": [
    "### DNN"
   ]
  },
  {
   "cell_type": "code",
   "execution_count": 4,
   "metadata": {
    "ExecuteTime": {
     "end_time": "2020-07-28T06:04:09.328930Z",
     "start_time": "2020-07-28T06:04:09.197145Z"
    },
    "scrolled": true
   },
   "outputs": [],
   "source": [
    "from tensorflow.keras import layers\n",
    "from tensorflow.keras import Model\n",
    "from tensorflow.keras.layers import Dense, Input\n",
    "from sklearn.model_selection import train_test_split\n",
    "from sklearn.preprocessing import MinMaxScaler\n",
    "UPC_list = [] #학습을 통해 나온 가중치 리스트 저장 공간\n"
   ]
  },
  {
   "cell_type": "code",
   "execution_count": 5,
   "metadata": {
    "ExecuteTime": {
     "end_time": "2020-07-28T06:04:09.332555Z",
     "start_time": "2020-07-28T06:04:09.330043Z"
    }
   },
   "outputs": [],
   "source": [
    "def train_test_data(one_user):    \n",
    "    x_train, x_test,y_train, y_test = train_test_split(one_user.iloc[:,0:6],one_user.iloc[:,6], random_state=66, test_size=0.3)\n",
    "    return x_train,x_test,y_train,y_test"
   ]
  },
  {
   "cell_type": "code",
   "execution_count": 6,
   "metadata": {
    "ExecuteTime": {
     "end_time": "2020-07-28T06:04:09.341263Z",
     "start_time": "2020-07-28T06:04:09.334170Z"
    }
   },
   "outputs": [],
   "source": [
    "def dnn_model():\n",
    "    #2. 모델 구성\n",
    "    input1 = Input(shape=(6,))\n",
    "    #dense1 = Dense(5, activation='relu')(input1)\n",
    "    #dense2 = Dense(3)(dense1)\n",
    "    output = Dense(1, activation='sigmoid')(input1)\n",
    "    model = Model(inputs=input1, outputs = output)\n",
    "    \n",
    "    model.compile(optimizer='adam', loss='MSE',metrics=['accuracy'])\n",
    "\n",
    "    return model"
   ]
  },
  {
   "cell_type": "code",
   "execution_count": 7,
   "metadata": {
    "ExecuteTime": {
     "end_time": "2020-07-28T06:04:09.349131Z",
     "start_time": "2020-07-28T06:04:09.342721Z"
    },
    "scrolled": true
   },
   "outputs": [],
   "source": [
    "def train_test_data(one_user):    \n",
    "    x_train, x_test,y_train, y_test = train_test_split(one_user.iloc[:,0:6],one_user.iloc[:,6], random_state=66, test_size=0.3)\n",
    "    return x_train,x_test,y_train,y_test"
   ]
  },
  {
   "cell_type": "code",
   "execution_count": 8,
   "metadata": {
    "ExecuteTime": {
     "end_time": "2020-07-28T06:04:09.354775Z",
     "start_time": "2020-07-28T06:04:09.350455Z"
    }
   },
   "outputs": [],
   "source": [
    "def model_fit(model, x_train, y_train, x_test, y_test):\n",
    "    # 3. 훈련\n",
    "    model.fit(x_train,y_train/5, epochs=100, batch_size=1, validation_data=(x_test,y_test/5))\n",
    "    \n",
    "    # 4. 평가 예측\n",
    "    loss, mse = model.evaluate(x_test,y_test/5,batch_size=1)\n",
    "    print('acc:',mse)\n",
    "    return model"
   ]
  },
  {
   "cell_type": "code",
   "execution_count": 9,
   "metadata": {
    "ExecuteTime": {
     "end_time": "2020-07-28T06:04:09.360275Z",
     "start_time": "2020-07-28T06:04:09.356080Z"
    }
   },
   "outputs": [],
   "source": [
    "#def predict_y(model,x_test):\n",
    "# 5. 결과 예측 및 가중치 추출\n",
    "#    y_predict = model.predict(x_test)\n",
    "#    return y_predict"
   ]
  },
  {
   "cell_type": "markdown",
   "metadata": {},
   "source": [
    "### 가중치 추출"
   ]
  },
  {
   "cell_type": "code",
   "execution_count": 10,
   "metadata": {
    "ExecuteTime": {
     "end_time": "2020-07-28T06:04:09.368816Z",
     "start_time": "2020-07-28T06:04:09.361519Z"
    }
   },
   "outputs": [],
   "source": [
    "def weights_list(model):\n",
    "    weights = model.layers[1].get_weights()\n",
    "    weights = MinMaxScaler().fit_transform(weights[0])\n",
    "    weights = np.array(weights)\n",
    "    weights= np.squeeze(weights,axis=1)\n",
    "    UPC_list=[]\n",
    "    UPC_list.append(weights)\n",
    "    return UPC_list"
   ]
  },
  {
   "cell_type": "markdown",
   "metadata": {},
   "source": [
    "### DNN_main 함수"
   ]
  },
  {
   "cell_type": "code",
   "execution_count": 11,
   "metadata": {
    "ExecuteTime": {
     "end_time": "2020-07-28T06:04:09.377037Z",
     "start_time": "2020-07-28T06:04:09.370344Z"
    }
   },
   "outputs": [],
   "source": [
    "def dnn_main(one_user):\n",
    "    x_train,x_test,y_train,y_test = train_test_data(one_user)\n",
    "    \n",
    "    model = dnn_model()\n",
    "    model = model_fit(model, x_train, y_train, x_test, y_test)\n",
    "    #pred_y = predict_y()\n",
    "    \n",
    "    UPC_list=weights_list(model)\n",
    "    \n",
    "    return UPC_list"
   ]
  },
  {
   "cell_type": "markdown",
   "metadata": {
    "hide_input": false
   },
   "source": [
    "### 데이터프레임화"
   ]
  },
  {
   "cell_type": "code",
   "execution_count": 12,
   "metadata": {
    "ExecuteTime": {
     "end_time": "2020-07-28T06:04:09.382369Z",
     "start_time": "2020-07-28T06:04:09.378144Z"
    }
   },
   "outputs": [],
   "source": [
    "def UPC_dataframe(UPC_list,user_list):   \n",
    "    UPC_data = pd.DataFrame(index=range(0,0),columns=['Author','Service','Cleanliness','Rooms','Value','Sleep Quality','Location'])\n",
    "    UPC_data = UPC_data.set_index('Author')\n",
    "\n",
    "    for i in range(len(UPC_list)):\n",
    "        UPC_data = UPC_data.append(pd.Series(a[i],name = user_list[i],index=UPC_data.columns))\n",
    "\n",
    "    return UPC_data\n",
    "    "
   ]
  },
  {
   "cell_type": "markdown",
   "metadata": {},
   "source": [
    "### 10~50개 리뷰를 작성한 사람으로 데이터 전처리"
   ]
  },
  {
   "cell_type": "code",
   "execution_count": 13,
   "metadata": {
    "ExecuteTime": {
     "end_time": "2020-07-28T06:04:09.388054Z",
     "start_time": "2020-07-28T06:04:09.383318Z"
    }
   },
   "outputs": [],
   "source": [
    "def len_pre(data_over):\n",
    "    data_count = data_over['Author'].value_counts()\n",
    "    tmp = pd.DataFrame(data_count.index, columns=['Author'])\n",
    "    tmp['count'] = data_count.values\n",
    "    data_count = tmp\n",
    "\n",
    "\n",
    "    np_data = np.array(data_count)\n",
    "    np_data=np_data[np.where(np_data[:,1]>=10)]\n",
    "    np_data=np_data[np.where(np_data[:,1]<=50)]\n",
    "\n",
    "    np_data = np.delete(np_data,(1),axis=1)\n",
    "    df1 = pd.DataFrame(columns=['name'])\n",
    "    name = np_data.reshape(-1,)\n",
    "    df1['name']= name\n",
    "    data_over= data_over[data_over['Author'].isin(df1['name'])]\n",
    "    data_over = data_over.reset_index(drop=True)\n",
    "    \n",
    "    return data_over"
   ]
  },
  {
   "cell_type": "markdown",
   "metadata": {},
   "source": [
    "## 행렬곱 연산"
   ]
  },
  {
   "cell_type": "code",
   "execution_count": 14,
   "metadata": {
    "ExecuteTime": {
     "end_time": "2020-07-28T06:04:09.395399Z",
     "start_time": "2020-07-28T06:04:09.389070Z"
    }
   },
   "outputs": [],
   "source": [
    "def matrix_multiplication(IPC,UPC):\n",
    "    #호텔, 저자 이름 추출\n",
    "    hotel_name = IPC['HotelInfo.HotelID']\n",
    "    test_IPC = drop(['HotelInfo.HotelID'],axis=1)\n",
    "\n",
    "    Author_name = UPC['Author']\n",
    "    test_UPC = UPC.drop(['Author'],axis=1)\n",
    "    ##################################################################\n",
    "\n",
    "    trans_UPC=np.transpose(test_UPC)\n",
    "\n",
    "    predict_matrix = np.dot(test_IPC,trans_UPC)\n",
    "    predict_matrix = pd.DataFrame(predict_matrix)\n",
    "\n",
    "    predict_matrix.columns=Author_name\n",
    "    predict_matrix.index = hotel_name\n",
    "    \n",
    "    return predict_matrix\n",
    "\n",
    "\n",
    "    predict_matrix = matrix_multiplication(data_IPC,data_UPC)\n",
    "    \n",
    "    return predict_matrix"
   ]
  },
  {
   "cell_type": "markdown",
   "metadata": {},
   "source": [
    "## main()"
   ]
  },
  {
   "cell_type": "code",
   "execution_count": 15,
   "metadata": {
    "ExecuteTime": {
     "end_time": "2020-07-28T06:04:09.404042Z",
     "start_time": "2020-07-28T06:04:09.396401Z"
    }
   },
   "outputs": [],
   "source": [
    "def main(dnn_input_data):\n",
    "    with K.tf.device('/gpu:0'):\n",
    "        user_list = user_list_fu(dnn_input_data)\n",
    "        for i in range(len(user_list)):#유저 수만큼 반복\n",
    "            one_user= dnn_input_data.loc[user_list[i]]#유저 1명에 대한 리뷰\n",
    "            UPC_list = dnn_main(one_user)#main()함수로 DNN학습 후 유저별 가중치를 list에 저장\n",
    "\n",
    "        UPC = UPC_dataframe(UPC_list,user_list)#UPC_list를 데이터 프레임화\n",
    "        \n",
    "        predict_matrix = matrix_multiplication(IPC,UPC):\n",
    "         \n",
    "        return predict_matrix"
   ]
  },
  {
   "cell_type": "markdown",
   "metadata": {},
   "source": [
    "# 실행"
   ]
  },
  {
   "cell_type": "code",
   "execution_count": 16,
   "metadata": {
    "ExecuteTime": {
     "end_time": "2020-07-28T06:04:12.754725Z",
     "start_time": "2020-07-28T06:04:09.405072Z"
    }
   },
   "outputs": [
    {
     "name": "stdout",
     "output_type": "stream",
     "text": [
      "WARNING:tensorflow:From /usr/local/lib/python3.7/dist-packages/tensorflow/python/ops/init_ops.py:1251: calling VarianceScaling.__init__ (from tensorflow.python.ops.init_ops) with dtype is deprecated and will be removed in a future version.\n",
      "Instructions for updating:\n",
      "Call initializer instance with the dtype argument instead of passing it to the constructor\n",
      "Train on 4 samples, validate on 2 samples\n",
      "Epoch 1/100\n",
      "4/4 [==============================] - 0s 44ms/sample - loss: 0.9995 - acc: 0.0000e+00 - val_loss: 0.9988 - val_acc: 0.0000e+00\n",
      "Epoch 2/100\n",
      "4/4 [==============================] - 0s 2ms/sample - loss: 0.9995 - acc: 0.0000e+00 - val_loss: 0.9988 - val_acc: 0.0000e+00\n",
      "Epoch 3/100\n",
      "4/4 [==============================] - 0s 2ms/sample - loss: 0.9994 - acc: 0.0000e+00 - val_loss: 0.9987 - val_acc: 0.0000e+00\n",
      "Epoch 4/100\n",
      "4/4 [==============================] - 0s 2ms/sample - loss: 0.9994 - acc: 0.0000e+00 - val_loss: 0.9986 - val_acc: 0.0000e+00\n",
      "Epoch 5/100\n",
      "4/4 [==============================] - 0s 2ms/sample - loss: 0.9994 - acc: 0.0000e+00 - val_loss: 0.9986 - val_acc: 0.0000e+00\n",
      "Epoch 6/100\n",
      "4/4 [==============================] - 0s 2ms/sample - loss: 0.9993 - acc: 0.0000e+00 - val_loss: 0.9985 - val_acc: 0.0000e+00\n",
      "Epoch 7/100\n",
      "4/4 [==============================] - 0s 1ms/sample - loss: 0.9993 - acc: 0.0000e+00 - val_loss: 0.9984 - val_acc: 0.0000e+00\n",
      "Epoch 8/100\n",
      "4/4 [==============================] - 0s 2ms/sample - loss: 0.9993 - acc: 0.0000e+00 - val_loss: 0.9984 - val_acc: 0.0000e+00\n",
      "Epoch 9/100\n",
      "4/4 [==============================] - 0s 1ms/sample - loss: 0.9992 - acc: 0.0000e+00 - val_loss: 0.9983 - val_acc: 0.0000e+00\n",
      "Epoch 10/100\n",
      "4/4 [==============================] - 0s 2ms/sample - loss: 0.9992 - acc: 0.0000e+00 - val_loss: 0.9982 - val_acc: 0.0000e+00\n",
      "Epoch 11/100\n",
      "4/4 [==============================] - 0s 2ms/sample - loss: 0.9991 - acc: 0.0000e+00 - val_loss: 0.9981 - val_acc: 0.0000e+00\n",
      "Epoch 12/100\n",
      "4/4 [==============================] - 0s 1ms/sample - loss: 0.9991 - acc: 0.0000e+00 - val_loss: 0.9980 - val_acc: 0.0000e+00\n",
      "Epoch 13/100\n",
      "4/4 [==============================] - 0s 1ms/sample - loss: 0.9990 - acc: 0.0000e+00 - val_loss: 0.9979 - val_acc: 0.0000e+00\n",
      "Epoch 14/100\n",
      "4/4 [==============================] - 0s 1ms/sample - loss: 0.9990 - acc: 0.0000e+00 - val_loss: 0.9978 - val_acc: 0.0000e+00\n",
      "Epoch 15/100\n",
      "4/4 [==============================] - 0s 2ms/sample - loss: 0.9989 - acc: 0.0000e+00 - val_loss: 0.9976 - val_acc: 0.0000e+00\n",
      "Epoch 16/100\n",
      "4/4 [==============================] - 0s 2ms/sample - loss: 0.9989 - acc: 0.0000e+00 - val_loss: 0.9975 - val_acc: 0.0000e+00\n",
      "Epoch 17/100\n",
      "4/4 [==============================] - 0s 2ms/sample - loss: 0.9988 - acc: 0.0000e+00 - val_loss: 0.9974 - val_acc: 0.0000e+00\n",
      "Epoch 18/100\n",
      "4/4 [==============================] - 0s 1ms/sample - loss: 0.9987 - acc: 0.0000e+00 - val_loss: 0.9972 - val_acc: 0.0000e+00\n",
      "Epoch 19/100\n",
      "4/4 [==============================] - 0s 2ms/sample - loss: 0.9986 - acc: 0.0000e+00 - val_loss: 0.9970 - val_acc: 0.0000e+00\n",
      "Epoch 20/100\n",
      "4/4 [==============================] - 0s 1ms/sample - loss: 0.9986 - acc: 0.0000e+00 - val_loss: 0.9968 - val_acc: 0.0000e+00\n",
      "Epoch 21/100\n",
      "4/4 [==============================] - 0s 2ms/sample - loss: 0.9984 - acc: 0.0000e+00 - val_loss: 0.9966 - val_acc: 0.0000e+00\n",
      "Epoch 22/100\n",
      "4/4 [==============================] - 0s 2ms/sample - loss: 0.9983 - acc: 0.0000e+00 - val_loss: 0.9964 - val_acc: 0.0000e+00\n",
      "Epoch 23/100\n",
      "4/4 [==============================] - 0s 2ms/sample - loss: 0.9982 - acc: 0.0000e+00 - val_loss: 0.9961 - val_acc: 0.0000e+00\n",
      "Epoch 24/100\n",
      "4/4 [==============================] - 0s 2ms/sample - loss: 0.9981 - acc: 0.0000e+00 - val_loss: 0.9958 - val_acc: 0.0000e+00\n",
      "Epoch 25/100\n",
      "4/4 [==============================] - 0s 2ms/sample - loss: 0.9980 - acc: 0.0000e+00 - val_loss: 0.9955 - val_acc: 0.0000e+00\n",
      "Epoch 26/100\n",
      "4/4 [==============================] - 0s 2ms/sample - loss: 0.9978 - acc: 0.0000e+00 - val_loss: 0.9952 - val_acc: 0.0000e+00\n",
      "Epoch 27/100\n",
      "4/4 [==============================] - 0s 2ms/sample - loss: 0.9976 - acc: 0.0000e+00 - val_loss: 0.9949 - val_acc: 0.0000e+00\n",
      "Epoch 28/100\n",
      "4/4 [==============================] - 0s 2ms/sample - loss: 0.9974 - acc: 0.0000e+00 - val_loss: 0.9945 - val_acc: 0.0000e+00\n",
      "Epoch 29/100\n",
      "4/4 [==============================] - 0s 2ms/sample - loss: 0.9972 - acc: 0.0000e+00 - val_loss: 0.9940 - val_acc: 0.0000e+00\n",
      "Epoch 30/100\n",
      "4/4 [==============================] - 0s 2ms/sample - loss: 0.9970 - acc: 0.0000e+00 - val_loss: 0.9935 - val_acc: 0.0000e+00\n",
      "Epoch 31/100\n",
      "4/4 [==============================] - 0s 1ms/sample - loss: 0.9967 - acc: 0.0000e+00 - val_loss: 0.9930 - val_acc: 0.0000e+00\n",
      "Epoch 32/100\n",
      "4/4 [==============================] - 0s 2ms/sample - loss: 0.9965 - acc: 0.0000e+00 - val_loss: 0.9923 - val_acc: 0.0000e+00\n",
      "Epoch 33/100\n",
      "4/4 [==============================] - 0s 2ms/sample - loss: 0.9961 - acc: 0.0000e+00 - val_loss: 0.9916 - val_acc: 0.0000e+00\n",
      "Epoch 34/100\n",
      "4/4 [==============================] - 0s 2ms/sample - loss: 0.9957 - acc: 0.0000e+00 - val_loss: 0.9908 - val_acc: 0.0000e+00\n",
      "Epoch 35/100\n",
      "4/4 [==============================] - 0s 2ms/sample - loss: 0.9952 - acc: 0.0000e+00 - val_loss: 0.9900 - val_acc: 0.0000e+00\n",
      "Epoch 36/100\n",
      "4/4 [==============================] - 0s 1ms/sample - loss: 0.9950 - acc: 0.0000e+00 - val_loss: 0.9890 - val_acc: 0.0000e+00\n",
      "Epoch 37/100\n",
      "4/4 [==============================] - 0s 2ms/sample - loss: 0.9945 - acc: 0.0000e+00 - val_loss: 0.9879 - val_acc: 0.0000e+00\n",
      "Epoch 38/100\n",
      "4/4 [==============================] - 0s 1ms/sample - loss: 0.9939 - acc: 0.0000e+00 - val_loss: 0.9866 - val_acc: 0.0000e+00\n",
      "Epoch 39/100\n",
      "4/4 [==============================] - 0s 1ms/sample - loss: 0.9932 - acc: 0.0000e+00 - val_loss: 0.9852 - val_acc: 0.0000e+00\n",
      "Epoch 40/100\n",
      "4/4 [==============================] - 0s 1ms/sample - loss: 0.9925 - acc: 0.0000e+00 - val_loss: 0.9836 - val_acc: 0.0000e+00\n",
      "Epoch 41/100\n",
      "4/4 [==============================] - 0s 2ms/sample - loss: 0.9916 - acc: 0.0000e+00 - val_loss: 0.9819 - val_acc: 0.0000e+00\n",
      "Epoch 42/100\n",
      "4/4 [==============================] - 0s 2ms/sample - loss: 0.9905 - acc: 0.0000e+00 - val_loss: 0.9799 - val_acc: 0.0000e+00\n",
      "Epoch 43/100\n",
      "4/4 [==============================] - 0s 2ms/sample - loss: 0.9893 - acc: 0.0000e+00 - val_loss: 0.9778 - val_acc: 0.0000e+00\n",
      "Epoch 44/100\n",
      "4/4 [==============================] - 0s 2ms/sample - loss: 0.9884 - acc: 0.0000e+00 - val_loss: 0.9752 - val_acc: 0.0000e+00\n",
      "Epoch 45/100\n",
      "4/4 [==============================] - 0s 2ms/sample - loss: 0.9870 - acc: 0.0000e+00 - val_loss: 0.9723 - val_acc: 0.0000e+00\n",
      "Epoch 46/100\n",
      "4/4 [==============================] - 0s 2ms/sample - loss: 0.9851 - acc: 0.0000e+00 - val_loss: 0.9690 - val_acc: 0.0000e+00\n",
      "Epoch 47/100\n",
      "4/4 [==============================] - 0s 2ms/sample - loss: 0.9838 - acc: 0.0000e+00 - val_loss: 0.9650 - val_acc: 0.0000e+00\n",
      "Epoch 48/100\n",
      "4/4 [==============================] - 0s 2ms/sample - loss: 0.9816 - acc: 0.0000e+00 - val_loss: 0.9605 - val_acc: 0.0000e+00\n",
      "Epoch 49/100\n",
      "4/4 [==============================] - 0s 2ms/sample - loss: 0.9787 - acc: 0.0000e+00 - val_loss: 0.9554 - val_acc: 0.0000e+00\n",
      "Epoch 50/100\n",
      "4/4 [==============================] - 0s 2ms/sample - loss: 0.9757 - acc: 0.0000e+00 - val_loss: 0.9497 - val_acc: 0.0000e+00\n",
      "Epoch 51/100\n",
      "4/4 [==============================] - 0s 2ms/sample - loss: 0.9732 - acc: 0.0000e+00 - val_loss: 0.9426 - val_acc: 0.0000e+00\n",
      "Epoch 52/100\n",
      "4/4 [==============================] - 0s 1ms/sample - loss: 0.9684 - acc: 0.0000e+00 - val_loss: 0.9349 - val_acc: 0.0000e+00\n",
      "Epoch 53/100\n",
      "4/4 [==============================] - 0s 1ms/sample - loss: 0.9640 - acc: 0.0000e+00 - val_loss: 0.9258 - val_acc: 0.0000e+00\n",
      "Epoch 54/100\n",
      "4/4 [==============================] - 0s 2ms/sample - loss: 0.9593 - acc: 0.0000e+00 - val_loss: 0.9150 - val_acc: 0.0000e+00\n",
      "Epoch 55/100\n",
      "4/4 [==============================] - 0s 2ms/sample - loss: 0.9536 - acc: 0.0000e+00 - val_loss: 0.9025 - val_acc: 0.0000e+00\n",
      "Epoch 56/100\n",
      "4/4 [==============================] - 0s 2ms/sample - loss: 0.9442 - acc: 0.0000e+00 - val_loss: 0.8891 - val_acc: 0.0000e+00\n"
     ]
    },
    {
     "name": "stdout",
     "output_type": "stream",
     "text": [
      "Epoch 57/100\n",
      "4/4 [==============================] - 0s 2ms/sample - loss: 0.9350 - acc: 0.0000e+00 - val_loss: 0.8734 - val_acc: 0.0000e+00\n",
      "Epoch 58/100\n",
      "4/4 [==============================] - 0s 2ms/sample - loss: 0.9279 - acc: 0.0000e+00 - val_loss: 0.8538 - val_acc: 0.0000e+00\n",
      "Epoch 59/100\n",
      "4/4 [==============================] - 0s 1ms/sample - loss: 0.9158 - acc: 0.0000e+00 - val_loss: 0.8310 - val_acc: 0.0000e+00\n",
      "Epoch 60/100\n",
      "4/4 [==============================] - 0s 2ms/sample - loss: 0.8970 - acc: 0.0000e+00 - val_loss: 0.8067 - val_acc: 0.0000e+00\n",
      "Epoch 61/100\n",
      "4/4 [==============================] - 0s 2ms/sample - loss: 0.8826 - acc: 0.0000e+00 - val_loss: 0.7766 - val_acc: 0.0000e+00\n",
      "Epoch 62/100\n",
      "4/4 [==============================] - 0s 2ms/sample - loss: 0.8643 - acc: 0.0000e+00 - val_loss: 0.7414 - val_acc: 0.0000e+00\n",
      "Epoch 63/100\n",
      "4/4 [==============================] - 0s 2ms/sample - loss: 0.8375 - acc: 0.0000e+00 - val_loss: 0.7022 - val_acc: 0.0000e+00\n",
      "Epoch 64/100\n",
      "4/4 [==============================] - 0s 2ms/sample - loss: 0.8091 - acc: 0.0000e+00 - val_loss: 0.6565 - val_acc: 0.0000e+00\n",
      "Epoch 65/100\n",
      "4/4 [==============================] - 0s 2ms/sample - loss: 0.7731 - acc: 0.0000e+00 - val_loss: 0.6050 - val_acc: 0.0000e+00\n",
      "Epoch 66/100\n",
      "4/4 [==============================] - 0s 2ms/sample - loss: 0.7298 - acc: 0.0000e+00 - val_loss: 0.5475 - val_acc: 0.0000e+00\n",
      "Epoch 67/100\n",
      "4/4 [==============================] - 0s 2ms/sample - loss: 0.6817 - acc: 0.0000e+00 - val_loss: 0.4839 - val_acc: 0.0000e+00\n",
      "Epoch 68/100\n",
      "4/4 [==============================] - 0s 2ms/sample - loss: 0.6235 - acc: 0.0000e+00 - val_loss: 0.4159 - val_acc: 0.5000\n",
      "Epoch 69/100\n",
      "4/4 [==============================] - 0s 2ms/sample - loss: 0.5611 - acc: 0.0000e+00 - val_loss: 0.3456 - val_acc: 0.5000\n",
      "Epoch 70/100\n",
      "4/4 [==============================] - 0s 2ms/sample - loss: 0.4937 - acc: 0.2500 - val_loss: 0.2760 - val_acc: 0.5000\n",
      "Epoch 71/100\n",
      "4/4 [==============================] - 0s 2ms/sample - loss: 0.4165 - acc: 0.2500 - val_loss: 0.2136 - val_acc: 0.5000\n",
      "Epoch 72/100\n",
      "4/4 [==============================] - 0s 1ms/sample - loss: 0.3489 - acc: 0.2500 - val_loss: 0.1592 - val_acc: 1.0000\n",
      "Epoch 73/100\n",
      "4/4 [==============================] - 0s 1ms/sample - loss: 0.2822 - acc: 0.5000 - val_loss: 0.1158 - val_acc: 1.0000\n",
      "Epoch 74/100\n",
      "4/4 [==============================] - 0s 1ms/sample - loss: 0.2268 - acc: 0.5000 - val_loss: 0.0830 - val_acc: 1.0000\n",
      "Epoch 75/100\n",
      "4/4 [==============================] - 0s 2ms/sample - loss: 0.1791 - acc: 0.7500 - val_loss: 0.0594 - val_acc: 1.0000\n",
      "Epoch 76/100\n",
      "4/4 [==============================] - 0s 2ms/sample - loss: 0.1406 - acc: 1.0000 - val_loss: 0.0432 - val_acc: 1.0000\n",
      "Epoch 77/100\n",
      "4/4 [==============================] - 0s 2ms/sample - loss: 0.1117 - acc: 1.0000 - val_loss: 0.0321 - val_acc: 1.0000\n",
      "Epoch 78/100\n",
      "4/4 [==============================] - 0s 1ms/sample - loss: 0.0866 - acc: 1.0000 - val_loss: 0.0248 - val_acc: 1.0000\n",
      "Epoch 79/100\n",
      "4/4 [==============================] - 0s 1ms/sample - loss: 0.0708 - acc: 1.0000 - val_loss: 0.0197 - val_acc: 1.0000\n",
      "Epoch 80/100\n",
      "4/4 [==============================] - 0s 1ms/sample - loss: 0.0613 - acc: 1.0000 - val_loss: 0.0159 - val_acc: 1.0000\n",
      "Epoch 81/100\n",
      "4/4 [==============================] - 0s 1ms/sample - loss: 0.0518 - acc: 1.0000 - val_loss: 0.0131 - val_acc: 1.0000\n",
      "Epoch 82/100\n",
      "4/4 [==============================] - 0s 1ms/sample - loss: 0.0436 - acc: 1.0000 - val_loss: 0.0112 - val_acc: 1.0000\n",
      "Epoch 83/100\n",
      "4/4 [==============================] - 0s 1ms/sample - loss: 0.0380 - acc: 1.0000 - val_loss: 0.0097 - val_acc: 1.0000\n",
      "Epoch 84/100\n",
      "4/4 [==============================] - 0s 1ms/sample - loss: 0.0338 - acc: 1.0000 - val_loss: 0.0086 - val_acc: 1.0000\n",
      "Epoch 85/100\n",
      "4/4 [==============================] - 0s 2ms/sample - loss: 0.0311 - acc: 1.0000 - val_loss: 0.0077 - val_acc: 1.0000\n",
      "Epoch 86/100\n",
      "4/4 [==============================] - 0s 2ms/sample - loss: 0.0280 - acc: 1.0000 - val_loss: 0.0069 - val_acc: 1.0000\n",
      "Epoch 87/100\n",
      "4/4 [==============================] - 0s 1ms/sample - loss: 0.0259 - acc: 1.0000 - val_loss: 0.0063 - val_acc: 1.0000\n",
      "Epoch 88/100\n",
      "4/4 [==============================] - 0s 2ms/sample - loss: 0.0238 - acc: 1.0000 - val_loss: 0.0058 - val_acc: 1.0000\n",
      "Epoch 89/100\n",
      "4/4 [==============================] - 0s 2ms/sample - loss: 0.0217 - acc: 1.0000 - val_loss: 0.0053 - val_acc: 1.0000\n",
      "Epoch 90/100\n",
      "4/4 [==============================] - 0s 1ms/sample - loss: 0.0204 - acc: 1.0000 - val_loss: 0.0050 - val_acc: 1.0000\n",
      "Epoch 91/100\n",
      "4/4 [==============================] - 0s 1ms/sample - loss: 0.0193 - acc: 1.0000 - val_loss: 0.0046 - val_acc: 1.0000\n",
      "Epoch 92/100\n",
      "4/4 [==============================] - 0s 1ms/sample - loss: 0.0183 - acc: 1.0000 - val_loss: 0.0044 - val_acc: 1.0000\n",
      "Epoch 93/100\n",
      "4/4 [==============================] - 0s 1ms/sample - loss: 0.0171 - acc: 1.0000 - val_loss: 0.0041 - val_acc: 1.0000\n",
      "Epoch 94/100\n",
      "4/4 [==============================] - 0s 1ms/sample - loss: 0.0162 - acc: 1.0000 - val_loss: 0.0039 - val_acc: 1.0000\n",
      "Epoch 95/100\n",
      "4/4 [==============================] - 0s 1ms/sample - loss: 0.0154 - acc: 1.0000 - val_loss: 0.0037 - val_acc: 1.0000\n",
      "Epoch 96/100\n",
      "4/4 [==============================] - 0s 1ms/sample - loss: 0.0147 - acc: 1.0000 - val_loss: 0.0035 - val_acc: 1.0000\n",
      "Epoch 97/100\n",
      "4/4 [==============================] - 0s 1ms/sample - loss: 0.0141 - acc: 1.0000 - val_loss: 0.0033 - val_acc: 1.0000\n",
      "Epoch 98/100\n",
      "4/4 [==============================] - 0s 1ms/sample - loss: 0.0135 - acc: 1.0000 - val_loss: 0.0032 - val_acc: 1.0000\n",
      "Epoch 99/100\n",
      "4/4 [==============================] - 0s 1ms/sample - loss: 0.0129 - acc: 1.0000 - val_loss: 0.0030 - val_acc: 1.0000\n",
      "Epoch 100/100\n",
      "4/4 [==============================] - 0s 1ms/sample - loss: 0.0124 - acc: 1.0000 - val_loss: 0.0029 - val_acc: 1.0000\n",
      "2/2 [==============================] - 0s 708us/sample - loss: 0.0029 - acc: 1.0000\n",
      "acc: 1.0\n",
      "Train on 9 samples, validate on 4 samples\n",
      "Epoch 1/100\n",
      "9/9 [==============================] - 0s 7ms/sample - loss: 0.6487 - acc: 0.0000e+00 - val_loss: 0.7597 - val_acc: 0.0000e+00\n",
      "Epoch 2/100\n",
      "9/9 [==============================] - 0s 1ms/sample - loss: 0.6487 - acc: 0.0000e+00 - val_loss: 0.7597 - val_acc: 0.0000e+00\n",
      "Epoch 3/100\n",
      "9/9 [==============================] - 0s 1ms/sample - loss: 0.6487 - acc: 0.0000e+00 - val_loss: 0.7596 - val_acc: 0.0000e+00\n",
      "Epoch 4/100\n",
      "9/9 [==============================] - 0s 1ms/sample - loss: 0.6487 - acc: 0.0000e+00 - val_loss: 0.7596 - val_acc: 0.0000e+00\n",
      "Epoch 5/100\n",
      "9/9 [==============================] - 0s 1ms/sample - loss: 0.6487 - acc: 0.0000e+00 - val_loss: 0.7596 - val_acc: 0.0000e+00\n",
      "Epoch 6/100\n",
      "9/9 [==============================] - 0s 1ms/sample - loss: 0.6487 - acc: 0.0000e+00 - val_loss: 0.7596 - val_acc: 0.0000e+00\n",
      "Epoch 7/100\n",
      "9/9 [==============================] - 0s 1ms/sample - loss: 0.6487 - acc: 0.0000e+00 - val_loss: 0.7595 - val_acc: 0.0000e+00\n",
      "Epoch 8/100\n",
      "9/9 [==============================] - 0s 1ms/sample - loss: 0.6486 - acc: 0.0000e+00 - val_loss: 0.7595 - val_acc: 0.0000e+00\n",
      "Epoch 9/100\n",
      "9/9 [==============================] - 0s 1ms/sample - loss: 0.6486 - acc: 0.0000e+00 - val_loss: 0.7594 - val_acc: 0.0000e+00\n",
      "Epoch 10/100\n",
      "9/9 [==============================] - 0s 1ms/sample - loss: 0.6486 - acc: 0.0000e+00 - val_loss: 0.7594 - val_acc: 0.0000e+00\n",
      "Epoch 11/100\n",
      "9/9 [==============================] - 0s 1ms/sample - loss: 0.6486 - acc: 0.0000e+00 - val_loss: 0.7593 - val_acc: 0.0000e+00\n",
      "Epoch 12/100\n",
      "9/9 [==============================] - 0s 1ms/sample - loss: 0.6485 - acc: 0.0000e+00 - val_loss: 0.7592 - val_acc: 0.0000e+00\n",
      "Epoch 13/100\n",
      "9/9 [==============================] - 0s 1ms/sample - loss: 0.6485 - acc: 0.0000e+00 - val_loss: 0.7591 - val_acc: 0.0000e+00\n",
      "Epoch 14/100\n",
      "9/9 [==============================] - 0s 1ms/sample - loss: 0.6485 - acc: 0.0000e+00 - val_loss: 0.7590 - val_acc: 0.0000e+00\n",
      "Epoch 15/100\n",
      "9/9 [==============================] - 0s 1ms/sample - loss: 0.6484 - acc: 0.0000e+00 - val_loss: 0.7589 - val_acc: 0.0000e+00\n",
      "Epoch 16/100\n",
      "9/9 [==============================] - 0s 1ms/sample - loss: 0.6483 - acc: 0.0000e+00 - val_loss: 0.7587 - val_acc: 0.0000e+00\n",
      "Epoch 17/100\n",
      "9/9 [==============================] - 0s 1ms/sample - loss: 0.6483 - acc: 0.0000e+00 - val_loss: 0.7585 - val_acc: 0.0000e+00\n",
      "Epoch 18/100\n",
      "9/9 [==============================] - 0s 1ms/sample - loss: 0.6482 - acc: 0.0000e+00 - val_loss: 0.7583 - val_acc: 0.0000e+00\n",
      "Epoch 19/100\n",
      "9/9 [==============================] - 0s 1ms/sample - loss: 0.6481 - acc: 0.0000e+00 - val_loss: 0.7580 - val_acc: 0.0000e+00\n",
      "Epoch 20/100\n",
      "9/9 [==============================] - 0s 1ms/sample - loss: 0.6479 - acc: 0.0000e+00 - val_loss: 0.7576 - val_acc: 0.0000e+00\n",
      "Epoch 21/100\n",
      "9/9 [==============================] - 0s 1ms/sample - loss: 0.6478 - acc: 0.0000e+00 - val_loss: 0.7571 - val_acc: 0.0000e+00\n",
      "Epoch 22/100\n",
      "9/9 [==============================] - 0s 1ms/sample - loss: 0.6475 - acc: 0.0000e+00 - val_loss: 0.7565 - val_acc: 0.0000e+00\n",
      "Epoch 23/100\n",
      "9/9 [==============================] - 0s 1ms/sample - loss: 0.6473 - acc: 0.0000e+00 - val_loss: 0.7555 - val_acc: 0.0000e+00\n",
      "Epoch 24/100\n",
      "9/9 [==============================] - 0s 1ms/sample - loss: 0.6469 - acc: 0.0000e+00 - val_loss: 0.7543 - val_acc: 0.0000e+00\n",
      "Epoch 25/100\n",
      "9/9 [==============================] - 0s 1ms/sample - loss: 0.6462 - acc: 0.0000e+00 - val_loss: 0.7527 - val_acc: 0.0000e+00\n",
      "Epoch 26/100\n",
      "9/9 [==============================] - 0s 1ms/sample - loss: 0.6455 - acc: 0.0000e+00 - val_loss: 0.7502 - val_acc: 0.0000e+00\n",
      "Epoch 27/100\n",
      "9/9 [==============================] - 0s 1ms/sample - loss: 0.6445 - acc: 0.0000e+00 - val_loss: 0.7465 - val_acc: 0.0000e+00\n",
      "Epoch 28/100\n",
      "9/9 [==============================] - 0s 1ms/sample - loss: 0.6426 - acc: 0.0000e+00 - val_loss: 0.7410 - val_acc: 0.0000e+00\n",
      "Epoch 29/100\n",
      "9/9 [==============================] - 0s 1ms/sample - loss: 0.6399 - acc: 0.0000e+00 - val_loss: 0.7322 - val_acc: 0.0000e+00\n",
      "Epoch 30/100\n",
      "9/9 [==============================] - 0s 1ms/sample - loss: 0.6354 - acc: 0.0000e+00 - val_loss: 0.7184 - val_acc: 0.0000e+00\n",
      "Epoch 31/100\n",
      "9/9 [==============================] - 0s 1ms/sample - loss: 0.6284 - acc: 0.0000e+00 - val_loss: 0.6960 - val_acc: 0.0000e+00\n",
      "Epoch 32/100\n",
      "9/9 [==============================] - 0s 1ms/sample - loss: 0.6140 - acc: 0.0000e+00 - val_loss: 0.6617 - val_acc: 0.0000e+00\n",
      "Epoch 33/100\n",
      "9/9 [==============================] - 0s 1ms/sample - loss: 0.5920 - acc: 0.0000e+00 - val_loss: 0.6086 - val_acc: 0.0000e+00\n",
      "Epoch 34/100\n",
      "9/9 [==============================] - 0s 1ms/sample - loss: 0.5555 - acc: 0.0000e+00 - val_loss: 0.5329 - val_acc: 0.0000e+00\n",
      "Epoch 35/100\n",
      "9/9 [==============================] - 0s 1ms/sample - loss: 0.4886 - acc: 0.0000e+00 - val_loss: 0.4323 - val_acc: 0.0000e+00\n",
      "Epoch 36/100\n",
      "9/9 [==============================] - 0s 1ms/sample - loss: 0.3880 - acc: 0.0000e+00 - val_loss: 0.3191 - val_acc: 0.2500\n",
      "Epoch 37/100\n",
      "9/9 [==============================] - 0s 1ms/sample - loss: 0.2745 - acc: 0.0000e+00 - val_loss: 0.2147 - val_acc: 0.2500\n",
      "Epoch 38/100\n",
      "9/9 [==============================] - 0s 1ms/sample - loss: 0.1674 - acc: 0.1111 - val_loss: 0.1442 - val_acc: 0.7500\n",
      "Epoch 39/100\n",
      "9/9 [==============================] - 0s 1ms/sample - loss: 0.0992 - acc: 0.4444 - val_loss: 0.1107 - val_acc: 0.7500\n",
      "Epoch 40/100\n",
      "9/9 [==============================] - 0s 1ms/sample - loss: 0.0711 - acc: 0.4444 - val_loss: 0.0964 - val_acc: 0.7500\n",
      "Epoch 41/100\n",
      "9/9 [==============================] - 0s 1ms/sample - loss: 0.0578 - acc: 0.4444 - val_loss: 0.0910 - val_acc: 0.7500\n",
      "Epoch 42/100\n",
      "9/9 [==============================] - 0s 1ms/sample - loss: 0.0532 - acc: 0.4444 - val_loss: 0.0887 - val_acc: 0.7500\n",
      "Epoch 43/100\n",
      "9/9 [==============================] - 0s 1ms/sample - loss: 0.0509 - acc: 0.4444 - val_loss: 0.0878 - val_acc: 0.7500\n",
      "Epoch 44/100\n",
      "9/9 [==============================] - 0s 1ms/sample - loss: 0.0501 - acc: 0.4444 - val_loss: 0.0869 - val_acc: 0.7500\n",
      "Epoch 45/100\n",
      "9/9 [==============================] - 0s 1ms/sample - loss: 0.0501 - acc: 0.4444 - val_loss: 0.0862 - val_acc: 0.7500\n",
      "Epoch 46/100\n",
      "9/9 [==============================] - ETA: 0s - loss: 0.0277 - acc: 1.000 - 0s 1ms/sample - loss: 0.0492 - acc: 0.4444 - val_loss: 0.0859 - val_acc: 0.7500\n",
      "Epoch 47/100\n",
      "9/9 [==============================] - 0s 1ms/sample - loss: 0.0487 - acc: 0.4444 - val_loss: 0.0856 - val_acc: 0.7500\n",
      "Epoch 48/100\n",
      "9/9 [==============================] - 0s 1ms/sample - loss: 0.0484 - acc: 0.4444 - val_loss: 0.0853 - val_acc: 0.7500\n",
      "Epoch 49/100\n",
      "9/9 [==============================] - 0s 1ms/sample - loss: 0.0479 - acc: 0.4444 - val_loss: 0.0850 - val_acc: 0.7500\n",
      "Epoch 50/100\n",
      "9/9 [==============================] - 0s 1ms/sample - loss: 0.0475 - acc: 0.4444 - val_loss: 0.0848 - val_acc: 0.7500\n",
      "Epoch 51/100\n",
      "9/9 [==============================] - 0s 1ms/sample - loss: 0.0473 - acc: 0.4444 - val_loss: 0.0848 - val_acc: 0.7500\n",
      "Epoch 52/100\n",
      "9/9 [==============================] - 0s 1ms/sample - loss: 0.0468 - acc: 0.4444 - val_loss: 0.0845 - val_acc: 0.7500\n",
      "Epoch 53/100\n",
      "9/9 [==============================] - 0s 1ms/sample - loss: 0.0463 - acc: 0.4444 - val_loss: 0.0843 - val_acc: 0.7500\n",
      "Epoch 54/100\n",
      "9/9 [==============================] - 0s 1ms/sample - loss: 0.0461 - acc: 0.4444 - val_loss: 0.0841 - val_acc: 0.7500\n",
      "Epoch 55/100\n",
      "9/9 [==============================] - 0s 1ms/sample - loss: 0.0457 - acc: 0.4444 - val_loss: 0.0839 - val_acc: 0.7500\n",
      "Epoch 56/100\n",
      "9/9 [==============================] - 0s 1ms/sample - loss: 0.0453 - acc: 0.4444 - val_loss: 0.0837 - val_acc: 0.7500\n",
      "Epoch 57/100\n",
      "9/9 [==============================] - 0s 1ms/sample - loss: 0.0451 - acc: 0.4444 - val_loss: 0.0835 - val_acc: 0.7500\n",
      "Epoch 58/100\n",
      "9/9 [==============================] - 0s 1ms/sample - loss: 0.0447 - acc: 0.4444 - val_loss: 0.0836 - val_acc: 0.7500\n",
      "Epoch 59/100\n",
      "9/9 [==============================] - 0s 1ms/sample - loss: 0.0443 - acc: 0.4444 - val_loss: 0.0835 - val_acc: 0.7500\n",
      "Epoch 60/100\n",
      "9/9 [==============================] - 0s 1ms/sample - loss: 0.0440 - acc: 0.4444 - val_loss: 0.0834 - val_acc: 0.7500\n",
      "Epoch 61/100\n",
      "9/9 [==============================] - 0s 1ms/sample - loss: 0.0436 - acc: 0.4444 - val_loss: 0.0832 - val_acc: 0.7500\n",
      "Epoch 62/100\n",
      "9/9 [==============================] - 0s 1ms/sample - loss: 0.0432 - acc: 0.4444 - val_loss: 0.0831 - val_acc: 0.7500\n",
      "Epoch 63/100\n",
      "9/9 [==============================] - 0s 1ms/sample - loss: 0.0430 - acc: 0.4444 - val_loss: 0.0828 - val_acc: 0.7500\n",
      "Epoch 64/100\n",
      "9/9 [==============================] - 0s 1ms/sample - loss: 0.0426 - acc: 0.4444 - val_loss: 0.0827 - val_acc: 0.7500\n",
      "Epoch 65/100\n",
      "9/9 [==============================] - 0s 1ms/sample - loss: 0.0425 - acc: 0.4444 - val_loss: 0.0828 - val_acc: 0.7500\n",
      "Epoch 66/100\n",
      "9/9 [==============================] - 0s 1ms/sample - loss: 0.0420 - acc: 0.4444 - val_loss: 0.0827 - val_acc: 0.7500\n",
      "Epoch 67/100\n",
      "9/9 [==============================] - 0s 1ms/sample - loss: 0.0416 - acc: 0.4444 - val_loss: 0.0826 - val_acc: 0.7500\n",
      "Epoch 68/100\n",
      "9/9 [==============================] - 0s 1ms/sample - loss: 0.0415 - acc: 0.4444 - val_loss: 0.0821 - val_acc: 0.7500\n",
      "Epoch 69/100\n",
      "9/9 [==============================] - 0s 1ms/sample - loss: 0.0410 - acc: 0.4444 - val_loss: 0.0820 - val_acc: 0.7500\n",
      "Epoch 70/100\n",
      "9/9 [==============================] - 0s 1ms/sample - loss: 0.0408 - acc: 0.4444 - val_loss: 0.0821 - val_acc: 0.7500\n",
      "Epoch 71/100\n",
      "9/9 [==============================] - 0s 1ms/sample - loss: 0.0406 - acc: 0.4444 - val_loss: 0.0817 - val_acc: 0.7500\n",
      "Epoch 72/100\n",
      "9/9 [==============================] - 0s 1ms/sample - loss: 0.0405 - acc: 0.4444 - val_loss: 0.0820 - val_acc: 0.7500\n",
      "Epoch 73/100\n",
      "9/9 [==============================] - 0s 1ms/sample - loss: 0.0398 - acc: 0.4444 - val_loss: 0.0818 - val_acc: 0.7500\n",
      "Epoch 74/100\n",
      "9/9 [==============================] - 0s 1ms/sample - loss: 0.0396 - acc: 0.4444 - val_loss: 0.0817 - val_acc: 0.7500\n",
      "Epoch 75/100\n",
      "9/9 [==============================] - 0s 1ms/sample - loss: 0.0394 - acc: 0.4444 - val_loss: 0.0812 - val_acc: 0.7500\n",
      "Epoch 76/100\n"
     ]
    },
    {
     "name": "stdout",
     "output_type": "stream",
     "text": [
      "9/9 [==============================] - 0s 1ms/sample - loss: 0.0390 - acc: 0.4444 - val_loss: 0.0811 - val_acc: 0.7500\n",
      "Epoch 77/100\n",
      "9/9 [==============================] - 0s 1ms/sample - loss: 0.0387 - acc: 0.4444 - val_loss: 0.0810 - val_acc: 0.7500\n",
      "Epoch 78/100\n",
      "9/9 [==============================] - 0s 1ms/sample - loss: 0.0384 - acc: 0.4444 - val_loss: 0.0808 - val_acc: 0.7500\n",
      "Epoch 79/100\n",
      "9/9 [==============================] - 0s 1ms/sample - loss: 0.0383 - acc: 0.4444 - val_loss: 0.0810 - val_acc: 0.7500\n",
      "Epoch 80/100\n",
      "9/9 [==============================] - 0s 1ms/sample - loss: 0.0379 - acc: 0.4444 - val_loss: 0.0810 - val_acc: 0.7500\n",
      "Epoch 81/100\n",
      "9/9 [==============================] - 0s 1ms/sample - loss: 0.0377 - acc: 0.4444 - val_loss: 0.0806 - val_acc: 0.7500\n",
      "Epoch 82/100\n",
      "9/9 [==============================] - 0s 1ms/sample - loss: 0.0373 - acc: 0.4444 - val_loss: 0.0806 - val_acc: 0.7500\n",
      "Epoch 83/100\n",
      "9/9 [==============================] - 0s 1ms/sample - loss: 0.0371 - acc: 0.4444 - val_loss: 0.0805 - val_acc: 0.7500\n",
      "Epoch 84/100\n",
      "9/9 [==============================] - 0s 1ms/sample - loss: 0.0369 - acc: 0.4444 - val_loss: 0.0804 - val_acc: 0.7500\n",
      "Epoch 85/100\n",
      "9/9 [==============================] - 0s 1ms/sample - loss: 0.0366 - acc: 0.4444 - val_loss: 0.0803 - val_acc: 0.7500\n",
      "Epoch 86/100\n",
      "9/9 [==============================] - 0s 1ms/sample - loss: 0.0364 - acc: 0.4444 - val_loss: 0.0803 - val_acc: 0.7500\n",
      "Epoch 87/100\n",
      "9/9 [==============================] - 0s 1ms/sample - loss: 0.0362 - acc: 0.4444 - val_loss: 0.0800 - val_acc: 0.7500\n",
      "Epoch 88/100\n",
      "9/9 [==============================] - 0s 1ms/sample - loss: 0.0359 - acc: 0.4444 - val_loss: 0.0799 - val_acc: 0.7500\n",
      "Epoch 89/100\n",
      "9/9 [==============================] - 0s 1ms/sample - loss: 0.0357 - acc: 0.4444 - val_loss: 0.0800 - val_acc: 0.7500\n",
      "Epoch 90/100\n",
      "9/9 [==============================] - 0s 1ms/sample - loss: 0.0357 - acc: 0.4444 - val_loss: 0.0801 - val_acc: 0.7500\n",
      "Epoch 91/100\n",
      "9/9 [==============================] - 0s 1ms/sample - loss: 0.0351 - acc: 0.4444 - val_loss: 0.0798 - val_acc: 0.7500\n",
      "Epoch 92/100\n",
      "9/9 [==============================] - 0s 1ms/sample - loss: 0.0350 - acc: 0.4444 - val_loss: 0.0797 - val_acc: 0.7500\n",
      "Epoch 93/100\n",
      "9/9 [==============================] - 0s 1ms/sample - loss: 0.0347 - acc: 0.4444 - val_loss: 0.0793 - val_acc: 0.7500\n",
      "Epoch 94/100\n",
      "9/9 [==============================] - 0s 1ms/sample - loss: 0.0347 - acc: 0.4444 - val_loss: 0.0795 - val_acc: 0.7500\n",
      "Epoch 95/100\n",
      "9/9 [==============================] - 0s 1ms/sample - loss: 0.0345 - acc: 0.4444 - val_loss: 0.0789 - val_acc: 0.7500\n",
      "Epoch 96/100\n",
      "9/9 [==============================] - 0s 1ms/sample - loss: 0.0341 - acc: 0.4444 - val_loss: 0.0791 - val_acc: 0.7500\n",
      "Epoch 97/100\n",
      "9/9 [==============================] - 0s 1ms/sample - loss: 0.0338 - acc: 0.4444 - val_loss: 0.0789 - val_acc: 0.7500\n",
      "Epoch 98/100\n",
      "9/9 [==============================] - 0s 1ms/sample - loss: 0.0340 - acc: 0.4444 - val_loss: 0.0792 - val_acc: 0.7500\n",
      "Epoch 99/100\n",
      "9/9 [==============================] - 0s 1ms/sample - loss: 0.0335 - acc: 0.4444 - val_loss: 0.0792 - val_acc: 0.7500\n",
      "Epoch 100/100\n",
      "9/9 [==============================] - 0s 1ms/sample - loss: 0.0336 - acc: 0.4444 - val_loss: 0.0782 - val_acc: 0.7500\n",
      "4/4 [==============================] - 0s 541us/sample - loss: 0.0782 - acc: 0.7500\n",
      "acc: 0.75\n",
      "Train on 4 samples, validate on 2 samples\n"
     ]
    },
    {
     "ename": "KeyboardInterrupt",
     "evalue": "",
     "output_type": "error",
     "traceback": [
      "\u001b[0;31m-----------------------------------------------------\u001b[0m",
      "\u001b[0;31mKeyboardInterrupt\u001b[0m   Traceback (most recent call last)",
      "\u001b[0;32m<ipython-input-16-eef86d3f98f2>\u001b[0m in \u001b[0;36m<module>\u001b[0;34m\u001b[0m\n\u001b[0;32m----> 1\u001b[0;31m \u001b[0mmain\u001b[0m\u001b[0;34m(\u001b[0m\u001b[0mdnn_input_data\u001b[0m\u001b[0;34m)\u001b[0m\u001b[0;34m\u001b[0m\u001b[0;34m\u001b[0m\u001b[0m\n\u001b[0m",
      "\u001b[0;32m<ipython-input-15-4706cb943333>\u001b[0m in \u001b[0;36mmain\u001b[0;34m(dnn_input_data)\u001b[0m\n\u001b[1;32m      4\u001b[0m         \u001b[0;32mfor\u001b[0m \u001b[0mi\u001b[0m \u001b[0;32min\u001b[0m \u001b[0mrange\u001b[0m\u001b[0;34m(\u001b[0m\u001b[0mlen\u001b[0m\u001b[0;34m(\u001b[0m\u001b[0muser_list\u001b[0m\u001b[0;34m)\u001b[0m\u001b[0;34m)\u001b[0m\u001b[0;34m:\u001b[0m\u001b[0;31m#유저 수만큼 반복\u001b[0m\u001b[0;34m\u001b[0m\u001b[0;34m\u001b[0m\u001b[0m\n\u001b[1;32m      5\u001b[0m             \u001b[0mone_user\u001b[0m\u001b[0;34m=\u001b[0m \u001b[0mdnn_input_data\u001b[0m\u001b[0;34m.\u001b[0m\u001b[0mloc\u001b[0m\u001b[0;34m[\u001b[0m\u001b[0muser_list\u001b[0m\u001b[0;34m[\u001b[0m\u001b[0mi\u001b[0m\u001b[0;34m]\u001b[0m\u001b[0;34m]\u001b[0m\u001b[0;31m#유저 1명에 대한 리뷰\u001b[0m\u001b[0;34m\u001b[0m\u001b[0;34m\u001b[0m\u001b[0m\n\u001b[0;32m----> 6\u001b[0;31m             \u001b[0mUPC_list\u001b[0m \u001b[0;34m=\u001b[0m \u001b[0mdnn_main\u001b[0m\u001b[0;34m(\u001b[0m\u001b[0mone_user\u001b[0m\u001b[0;34m)\u001b[0m\u001b[0;31m#main()함수로 DNN학습 후 유저별 가중치를 list에 저장\u001b[0m\u001b[0;34m\u001b[0m\u001b[0;34m\u001b[0m\u001b[0m\n\u001b[0m\u001b[1;32m      7\u001b[0m \u001b[0;34m\u001b[0m\u001b[0m\n\u001b[1;32m      8\u001b[0m         \u001b[0mUPC_data\u001b[0m \u001b[0;34m=\u001b[0m \u001b[0mUPC_dataframe\u001b[0m\u001b[0;34m(\u001b[0m\u001b[0mUPC_list\u001b[0m\u001b[0;34m,\u001b[0m\u001b[0muser_list\u001b[0m\u001b[0;34m)\u001b[0m\u001b[0;31m#UPC_list를 데이터 프레임화\u001b[0m\u001b[0;34m\u001b[0m\u001b[0;34m\u001b[0m\u001b[0m\n",
      "\u001b[0;32m<ipython-input-11-927a0dbc5b55>\u001b[0m in \u001b[0;36mdnn_main\u001b[0;34m(one_user)\u001b[0m\n\u001b[1;32m      3\u001b[0m \u001b[0;34m\u001b[0m\u001b[0m\n\u001b[1;32m      4\u001b[0m     \u001b[0mmodel\u001b[0m \u001b[0;34m=\u001b[0m \u001b[0mdnn_model\u001b[0m\u001b[0;34m(\u001b[0m\u001b[0;34m)\u001b[0m\u001b[0;34m\u001b[0m\u001b[0;34m\u001b[0m\u001b[0m\n\u001b[0;32m----> 5\u001b[0;31m     \u001b[0mmodel\u001b[0m \u001b[0;34m=\u001b[0m \u001b[0mmodel_fit\u001b[0m\u001b[0;34m(\u001b[0m\u001b[0mmodel\u001b[0m\u001b[0;34m,\u001b[0m \u001b[0mx_train\u001b[0m\u001b[0;34m,\u001b[0m \u001b[0my_train\u001b[0m\u001b[0;34m,\u001b[0m \u001b[0mx_test\u001b[0m\u001b[0;34m,\u001b[0m \u001b[0my_test\u001b[0m\u001b[0;34m)\u001b[0m\u001b[0;34m\u001b[0m\u001b[0;34m\u001b[0m\u001b[0m\n\u001b[0m\u001b[1;32m      6\u001b[0m     \u001b[0;31m#pred_y = predict_y()\u001b[0m\u001b[0;34m\u001b[0m\u001b[0;34m\u001b[0m\u001b[0;34m\u001b[0m\u001b[0m\n\u001b[1;32m      7\u001b[0m \u001b[0;34m\u001b[0m\u001b[0m\n",
      "\u001b[0;32m<ipython-input-8-6dc666767cf9>\u001b[0m in \u001b[0;36mmodel_fit\u001b[0;34m(model, x_train, y_train, x_test, y_test)\u001b[0m\n\u001b[1;32m      1\u001b[0m \u001b[0;32mdef\u001b[0m \u001b[0mmodel_fit\u001b[0m\u001b[0;34m(\u001b[0m\u001b[0mmodel\u001b[0m\u001b[0;34m,\u001b[0m \u001b[0mx_train\u001b[0m\u001b[0;34m,\u001b[0m \u001b[0my_train\u001b[0m\u001b[0;34m,\u001b[0m \u001b[0mx_test\u001b[0m\u001b[0;34m,\u001b[0m \u001b[0my_test\u001b[0m\u001b[0;34m)\u001b[0m\u001b[0;34m:\u001b[0m\u001b[0;34m\u001b[0m\u001b[0;34m\u001b[0m\u001b[0m\n\u001b[1;32m      2\u001b[0m     \u001b[0;31m# 3. 훈련\u001b[0m\u001b[0;34m\u001b[0m\u001b[0;34m\u001b[0m\u001b[0;34m\u001b[0m\u001b[0m\n\u001b[0;32m----> 3\u001b[0;31m     \u001b[0mmodel\u001b[0m\u001b[0;34m.\u001b[0m\u001b[0mfit\u001b[0m\u001b[0;34m(\u001b[0m\u001b[0mx_train\u001b[0m\u001b[0;34m,\u001b[0m\u001b[0my_train\u001b[0m\u001b[0;34m/\u001b[0m\u001b[0;36m5\u001b[0m\u001b[0;34m,\u001b[0m \u001b[0mepochs\u001b[0m\u001b[0;34m=\u001b[0m\u001b[0;36m100\u001b[0m\u001b[0;34m,\u001b[0m \u001b[0mbatch_size\u001b[0m\u001b[0;34m=\u001b[0m\u001b[0;36m1\u001b[0m\u001b[0;34m,\u001b[0m \u001b[0mvalidation_data\u001b[0m\u001b[0;34m=\u001b[0m\u001b[0;34m(\u001b[0m\u001b[0mx_test\u001b[0m\u001b[0;34m,\u001b[0m\u001b[0my_test\u001b[0m\u001b[0;34m/\u001b[0m\u001b[0;36m5\u001b[0m\u001b[0;34m)\u001b[0m\u001b[0;34m)\u001b[0m\u001b[0;34m\u001b[0m\u001b[0;34m\u001b[0m\u001b[0m\n\u001b[0m\u001b[1;32m      4\u001b[0m \u001b[0;34m\u001b[0m\u001b[0m\n\u001b[1;32m      5\u001b[0m     \u001b[0;31m# 4. 평가 예측\u001b[0m\u001b[0;34m\u001b[0m\u001b[0;34m\u001b[0m\u001b[0;34m\u001b[0m\u001b[0m\n",
      "\u001b[0;32m/usr/local/lib/python3.7/dist-packages/tensorflow/python/keras/engine/training.py\u001b[0m in \u001b[0;36mfit\u001b[0;34m(self, x, y, batch_size, epochs, verbose, callbacks, validation_split, validation_data, shuffle, class_weight, sample_weight, initial_epoch, steps_per_epoch, validation_steps, validation_freq, max_queue_size, workers, use_multiprocessing, **kwargs)\u001b[0m\n\u001b[1;32m    778\u001b[0m           \u001b[0mvalidation_steps\u001b[0m\u001b[0;34m=\u001b[0m\u001b[0mvalidation_steps\u001b[0m\u001b[0;34m,\u001b[0m\u001b[0;34m\u001b[0m\u001b[0;34m\u001b[0m\u001b[0m\n\u001b[1;32m    779\u001b[0m           \u001b[0mvalidation_freq\u001b[0m\u001b[0;34m=\u001b[0m\u001b[0mvalidation_freq\u001b[0m\u001b[0;34m,\u001b[0m\u001b[0;34m\u001b[0m\u001b[0;34m\u001b[0m\u001b[0m\n\u001b[0;32m--> 780\u001b[0;31m           steps_name='steps_per_epoch')\n\u001b[0m\u001b[1;32m    781\u001b[0m \u001b[0;34m\u001b[0m\u001b[0m\n\u001b[1;32m    782\u001b[0m   def evaluate(self,\n",
      "\u001b[0;32m/usr/local/lib/python3.7/dist-packages/tensorflow/python/keras/engine/training_arrays.py\u001b[0m in \u001b[0;36mmodel_iteration\u001b[0;34m(model, inputs, targets, sample_weights, batch_size, epochs, verbose, callbacks, val_inputs, val_targets, val_sample_weights, shuffle, initial_epoch, steps_per_epoch, validation_steps, validation_freq, mode, validation_in_fit, prepared_feed_values_from_dataset, steps_name, **kwargs)\u001b[0m\n\u001b[1;32m    155\u001b[0m \u001b[0;34m\u001b[0m\u001b[0m\n\u001b[1;32m    156\u001b[0m   \u001b[0;31m# Get step function and loop type.\u001b[0m\u001b[0;34m\u001b[0m\u001b[0;34m\u001b[0m\u001b[0;34m\u001b[0m\u001b[0m\n\u001b[0;32m--> 157\u001b[0;31m   \u001b[0mf\u001b[0m \u001b[0;34m=\u001b[0m \u001b[0m_make_execution_function\u001b[0m\u001b[0;34m(\u001b[0m\u001b[0mmodel\u001b[0m\u001b[0;34m,\u001b[0m \u001b[0mmode\u001b[0m\u001b[0;34m)\u001b[0m\u001b[0;34m\u001b[0m\u001b[0;34m\u001b[0m\u001b[0m\n\u001b[0m\u001b[1;32m    158\u001b[0m   \u001b[0muse_steps\u001b[0m \u001b[0;34m=\u001b[0m \u001b[0mis_dataset\u001b[0m \u001b[0;32mor\u001b[0m \u001b[0msteps_per_epoch\u001b[0m \u001b[0;32mis\u001b[0m \u001b[0;32mnot\u001b[0m \u001b[0;32mNone\u001b[0m\u001b[0;34m\u001b[0m\u001b[0;34m\u001b[0m\u001b[0m\n\u001b[1;32m    159\u001b[0m   \u001b[0mdo_validation\u001b[0m \u001b[0;34m=\u001b[0m \u001b[0mval_inputs\u001b[0m \u001b[0;32mis\u001b[0m \u001b[0;32mnot\u001b[0m \u001b[0;32mNone\u001b[0m\u001b[0;34m\u001b[0m\u001b[0;34m\u001b[0m\u001b[0m\n",
      "\u001b[0;32m/usr/local/lib/python3.7/dist-packages/tensorflow/python/keras/engine/training_arrays.py\u001b[0m in \u001b[0;36m_make_execution_function\u001b[0;34m(model, mode)\u001b[0m\n\u001b[1;32m    530\u001b[0m   \u001b[0;32mif\u001b[0m \u001b[0mmodel\u001b[0m\u001b[0;34m.\u001b[0m\u001b[0m_distribution_strategy\u001b[0m\u001b[0;34m:\u001b[0m\u001b[0;34m\u001b[0m\u001b[0;34m\u001b[0m\u001b[0m\n\u001b[1;32m    531\u001b[0m     \u001b[0;32mreturn\u001b[0m \u001b[0mdistributed_training_utils\u001b[0m\u001b[0;34m.\u001b[0m\u001b[0m_make_execution_function\u001b[0m\u001b[0;34m(\u001b[0m\u001b[0mmodel\u001b[0m\u001b[0;34m,\u001b[0m \u001b[0mmode\u001b[0m\u001b[0;34m)\u001b[0m\u001b[0;34m\u001b[0m\u001b[0;34m\u001b[0m\u001b[0m\n\u001b[0;32m--> 532\u001b[0;31m   \u001b[0;32mreturn\u001b[0m \u001b[0mmodel\u001b[0m\u001b[0;34m.\u001b[0m\u001b[0m_make_execution_function\u001b[0m\u001b[0;34m(\u001b[0m\u001b[0mmode\u001b[0m\u001b[0;34m)\u001b[0m\u001b[0;34m\u001b[0m\u001b[0;34m\u001b[0m\u001b[0m\n\u001b[0m\u001b[1;32m    533\u001b[0m \u001b[0;34m\u001b[0m\u001b[0m\n\u001b[1;32m    534\u001b[0m \u001b[0;34m\u001b[0m\u001b[0m\n",
      "\u001b[0;32m/usr/local/lib/python3.7/dist-packages/tensorflow/python/keras/engine/training.py\u001b[0m in \u001b[0;36m_make_execution_function\u001b[0;34m(self, mode)\u001b[0m\n\u001b[1;32m   2274\u001b[0m   \u001b[0;32mdef\u001b[0m \u001b[0m_make_execution_function\u001b[0m\u001b[0;34m(\u001b[0m\u001b[0mself\u001b[0m\u001b[0;34m,\u001b[0m \u001b[0mmode\u001b[0m\u001b[0;34m)\u001b[0m\u001b[0;34m:\u001b[0m\u001b[0;34m\u001b[0m\u001b[0;34m\u001b[0m\u001b[0m\n\u001b[1;32m   2275\u001b[0m     \u001b[0;32mif\u001b[0m \u001b[0mmode\u001b[0m \u001b[0;34m==\u001b[0m \u001b[0mModeKeys\u001b[0m\u001b[0;34m.\u001b[0m\u001b[0mTRAIN\u001b[0m\u001b[0;34m:\u001b[0m\u001b[0;34m\u001b[0m\u001b[0;34m\u001b[0m\u001b[0m\n\u001b[0;32m-> 2276\u001b[0;31m       \u001b[0mself\u001b[0m\u001b[0;34m.\u001b[0m\u001b[0m_make_train_function\u001b[0m\u001b[0;34m(\u001b[0m\u001b[0;34m)\u001b[0m\u001b[0;34m\u001b[0m\u001b[0;34m\u001b[0m\u001b[0m\n\u001b[0m\u001b[1;32m   2277\u001b[0m       \u001b[0;32mreturn\u001b[0m \u001b[0mself\u001b[0m\u001b[0;34m.\u001b[0m\u001b[0mtrain_function\u001b[0m\u001b[0;34m\u001b[0m\u001b[0;34m\u001b[0m\u001b[0m\n\u001b[1;32m   2278\u001b[0m     \u001b[0;32mif\u001b[0m \u001b[0mmode\u001b[0m \u001b[0;34m==\u001b[0m \u001b[0mModeKeys\u001b[0m\u001b[0;34m.\u001b[0m\u001b[0mTEST\u001b[0m\u001b[0;34m:\u001b[0m\u001b[0;34m\u001b[0m\u001b[0;34m\u001b[0m\u001b[0m\n",
      "\u001b[0;32m/usr/local/lib/python3.7/dist-packages/tensorflow/python/keras/engine/training.py\u001b[0m in \u001b[0;36m_make_train_function\u001b[0;34m(self)\u001b[0m\n\u001b[1;32m   2217\u001b[0m           \u001b[0;31m# Training updates\u001b[0m\u001b[0;34m\u001b[0m\u001b[0;34m\u001b[0m\u001b[0;34m\u001b[0m\u001b[0m\n\u001b[1;32m   2218\u001b[0m           updates = self.optimizer.get_updates(\n\u001b[0;32m-> 2219\u001b[0;31m               params=self._collected_trainable_weights, loss=self.total_loss)\n\u001b[0m\u001b[1;32m   2220\u001b[0m       \u001b[0;31m# Unconditional updates\u001b[0m\u001b[0;34m\u001b[0m\u001b[0;34m\u001b[0m\u001b[0;34m\u001b[0m\u001b[0m\n\u001b[1;32m   2221\u001b[0m       \u001b[0mupdates\u001b[0m \u001b[0;34m+=\u001b[0m \u001b[0mself\u001b[0m\u001b[0;34m.\u001b[0m\u001b[0mget_updates_for\u001b[0m\u001b[0;34m(\u001b[0m\u001b[0;32mNone\u001b[0m\u001b[0;34m)\u001b[0m\u001b[0;34m\u001b[0m\u001b[0;34m\u001b[0m\u001b[0m\n",
      "\u001b[0;32m/usr/local/lib/python3.7/dist-packages/tensorflow/python/keras/optimizer_v2/optimizer_v2.py\u001b[0m in \u001b[0;36mget_updates\u001b[0;34m(self, loss, params)\u001b[0m\n\u001b[1;32m    495\u001b[0m         \u001b[0;32mif\u001b[0m \u001b[0mg\u001b[0m \u001b[0;32mis\u001b[0m \u001b[0;32mnot\u001b[0m \u001b[0;32mNone\u001b[0m \u001b[0;32mand\u001b[0m \u001b[0mv\u001b[0m\u001b[0;34m.\u001b[0m\u001b[0mdtype\u001b[0m \u001b[0;34m!=\u001b[0m \u001b[0mdtypes\u001b[0m\u001b[0;34m.\u001b[0m\u001b[0mresource\u001b[0m\u001b[0;34m\u001b[0m\u001b[0;34m\u001b[0m\u001b[0m\n\u001b[1;32m    496\u001b[0m     ])\n\u001b[0;32m--> 497\u001b[0;31m     \u001b[0;32mreturn\u001b[0m \u001b[0;34m[\u001b[0m\u001b[0mself\u001b[0m\u001b[0;34m.\u001b[0m\u001b[0mapply_gradients\u001b[0m\u001b[0;34m(\u001b[0m\u001b[0mgrads_and_vars\u001b[0m\u001b[0;34m)\u001b[0m\u001b[0;34m]\u001b[0m\u001b[0;34m\u001b[0m\u001b[0;34m\u001b[0m\u001b[0m\n\u001b[0m\u001b[1;32m    498\u001b[0m \u001b[0;34m\u001b[0m\u001b[0m\n\u001b[1;32m    499\u001b[0m   \u001b[0;32mdef\u001b[0m \u001b[0m_set_hyper\u001b[0m\u001b[0;34m(\u001b[0m\u001b[0mself\u001b[0m\u001b[0;34m,\u001b[0m \u001b[0mname\u001b[0m\u001b[0;34m,\u001b[0m \u001b[0mvalue\u001b[0m\u001b[0;34m)\u001b[0m\u001b[0;34m:\u001b[0m\u001b[0;34m\u001b[0m\u001b[0;34m\u001b[0m\u001b[0m\n",
      "\u001b[0;32m/usr/local/lib/python3.7/dist-packages/tensorflow/python/keras/optimizer_v2/optimizer_v2.py\u001b[0m in \u001b[0;36mapply_gradients\u001b[0;34m(self, grads_and_vars, name)\u001b[0m\n\u001b[1;32m    433\u001b[0m         \u001b[0m_\u001b[0m \u001b[0;34m=\u001b[0m \u001b[0mself\u001b[0m\u001b[0;34m.\u001b[0m\u001b[0miterations\u001b[0m\u001b[0;34m\u001b[0m\u001b[0;34m\u001b[0m\u001b[0m\n\u001b[1;32m    434\u001b[0m         \u001b[0mself\u001b[0m\u001b[0;34m.\u001b[0m\u001b[0m_create_hypers\u001b[0m\u001b[0;34m(\u001b[0m\u001b[0;34m)\u001b[0m\u001b[0;34m\u001b[0m\u001b[0;34m\u001b[0m\u001b[0m\n\u001b[0;32m--> 435\u001b[0;31m         \u001b[0mself\u001b[0m\u001b[0;34m.\u001b[0m\u001b[0m_create_slots\u001b[0m\u001b[0;34m(\u001b[0m\u001b[0mvar_list\u001b[0m\u001b[0;34m)\u001b[0m\u001b[0;34m\u001b[0m\u001b[0;34m\u001b[0m\u001b[0m\n\u001b[0m\u001b[1;32m    436\u001b[0m \u001b[0;34m\u001b[0m\u001b[0m\n\u001b[1;32m    437\u001b[0m       \u001b[0mself\u001b[0m\u001b[0;34m.\u001b[0m\u001b[0m_prepare\u001b[0m\u001b[0;34m(\u001b[0m\u001b[0mvar_list\u001b[0m\u001b[0;34m)\u001b[0m\u001b[0;34m\u001b[0m\u001b[0;34m\u001b[0m\u001b[0m\n",
      "\u001b[0;32m/usr/local/lib/python3.7/dist-packages/tensorflow/python/keras/optimizer_v2/adam.py\u001b[0m in \u001b[0;36m_create_slots\u001b[0;34m(self, var_list)\u001b[0m\n\u001b[1;32m    145\u001b[0m       \u001b[0mself\u001b[0m\u001b[0;34m.\u001b[0m\u001b[0madd_slot\u001b[0m\u001b[0;34m(\u001b[0m\u001b[0mvar\u001b[0m\u001b[0;34m,\u001b[0m \u001b[0;34m'm'\u001b[0m\u001b[0;34m)\u001b[0m\u001b[0;34m\u001b[0m\u001b[0;34m\u001b[0m\u001b[0m\n\u001b[1;32m    146\u001b[0m     \u001b[0;32mfor\u001b[0m \u001b[0mvar\u001b[0m \u001b[0;32min\u001b[0m \u001b[0mvar_list\u001b[0m\u001b[0;34m:\u001b[0m\u001b[0;34m\u001b[0m\u001b[0;34m\u001b[0m\u001b[0m\n\u001b[0;32m--> 147\u001b[0;31m       \u001b[0mself\u001b[0m\u001b[0;34m.\u001b[0m\u001b[0madd_slot\u001b[0m\u001b[0;34m(\u001b[0m\u001b[0mvar\u001b[0m\u001b[0;34m,\u001b[0m \u001b[0;34m'v'\u001b[0m\u001b[0;34m)\u001b[0m\u001b[0;34m\u001b[0m\u001b[0;34m\u001b[0m\u001b[0m\n\u001b[0m\u001b[1;32m    148\u001b[0m     \u001b[0;32mif\u001b[0m \u001b[0mself\u001b[0m\u001b[0;34m.\u001b[0m\u001b[0mamsgrad\u001b[0m\u001b[0;34m:\u001b[0m\u001b[0;34m\u001b[0m\u001b[0;34m\u001b[0m\u001b[0m\n\u001b[1;32m    149\u001b[0m       \u001b[0;32mfor\u001b[0m \u001b[0mvar\u001b[0m \u001b[0;32min\u001b[0m \u001b[0mvar_list\u001b[0m\u001b[0;34m:\u001b[0m\u001b[0;34m\u001b[0m\u001b[0;34m\u001b[0m\u001b[0m\n",
      "\u001b[0;32m/usr/local/lib/python3.7/dist-packages/tensorflow/python/keras/optimizer_v2/optimizer_v2.py\u001b[0m in \u001b[0;36madd_slot\u001b[0;34m(self, var, slot_name, initializer)\u001b[0m\n\u001b[1;32m    576\u001b[0m             \u001b[0mdtype\u001b[0m\u001b[0;34m=\u001b[0m\u001b[0mvar\u001b[0m\u001b[0;34m.\u001b[0m\u001b[0mdtype\u001b[0m\u001b[0;34m,\u001b[0m\u001b[0;34m\u001b[0m\u001b[0;34m\u001b[0m\u001b[0m\n\u001b[1;32m    577\u001b[0m             \u001b[0mtrainable\u001b[0m\u001b[0;34m=\u001b[0m\u001b[0;32mFalse\u001b[0m\u001b[0;34m,\u001b[0m\u001b[0;34m\u001b[0m\u001b[0;34m\u001b[0m\u001b[0m\n\u001b[0;32m--> 578\u001b[0;31m             initial_value=initial_value)\n\u001b[0m\u001b[1;32m    579\u001b[0m       \u001b[0mbackend\u001b[0m\u001b[0;34m.\u001b[0m\u001b[0mtrack_variable\u001b[0m\u001b[0;34m(\u001b[0m\u001b[0mweight\u001b[0m\u001b[0;34m)\u001b[0m\u001b[0;34m\u001b[0m\u001b[0;34m\u001b[0m\u001b[0m\n\u001b[1;32m    580\u001b[0m       \u001b[0mslot_dict\u001b[0m\u001b[0;34m[\u001b[0m\u001b[0mslot_name\u001b[0m\u001b[0;34m]\u001b[0m \u001b[0;34m=\u001b[0m \u001b[0mweight\u001b[0m\u001b[0;34m\u001b[0m\u001b[0;34m\u001b[0m\u001b[0m\n",
      "\u001b[0;32m/usr/local/lib/python3.7/dist-packages/tensorflow/python/ops/variables.py\u001b[0m in \u001b[0;36m__call__\u001b[0;34m(cls, *args, **kwargs)\u001b[0m\n\u001b[1;32m    259\u001b[0m       \u001b[0;32mreturn\u001b[0m \u001b[0mcls\u001b[0m\u001b[0;34m.\u001b[0m\u001b[0m_variable_v1_call\u001b[0m\u001b[0;34m(\u001b[0m\u001b[0;34m*\u001b[0m\u001b[0margs\u001b[0m\u001b[0;34m,\u001b[0m \u001b[0;34m**\u001b[0m\u001b[0mkwargs\u001b[0m\u001b[0;34m)\u001b[0m\u001b[0;34m\u001b[0m\u001b[0;34m\u001b[0m\u001b[0m\n\u001b[1;32m    260\u001b[0m     \u001b[0;32melif\u001b[0m \u001b[0mcls\u001b[0m \u001b[0;32mis\u001b[0m \u001b[0mVariable\u001b[0m\u001b[0;34m:\u001b[0m\u001b[0;34m\u001b[0m\u001b[0;34m\u001b[0m\u001b[0m\n\u001b[0;32m--> 261\u001b[0;31m       \u001b[0;32mreturn\u001b[0m \u001b[0mcls\u001b[0m\u001b[0;34m.\u001b[0m\u001b[0m_variable_v2_call\u001b[0m\u001b[0;34m(\u001b[0m\u001b[0;34m*\u001b[0m\u001b[0margs\u001b[0m\u001b[0;34m,\u001b[0m \u001b[0;34m**\u001b[0m\u001b[0mkwargs\u001b[0m\u001b[0;34m)\u001b[0m\u001b[0;34m\u001b[0m\u001b[0;34m\u001b[0m\u001b[0m\n\u001b[0m\u001b[1;32m    262\u001b[0m     \u001b[0;32melse\u001b[0m\u001b[0;34m:\u001b[0m\u001b[0;34m\u001b[0m\u001b[0;34m\u001b[0m\u001b[0m\n\u001b[1;32m    263\u001b[0m       \u001b[0;32mreturn\u001b[0m \u001b[0msuper\u001b[0m\u001b[0;34m(\u001b[0m\u001b[0mVariableMetaclass\u001b[0m\u001b[0;34m,\u001b[0m \u001b[0mcls\u001b[0m\u001b[0;34m)\u001b[0m\u001b[0;34m.\u001b[0m\u001b[0m__call__\u001b[0m\u001b[0;34m(\u001b[0m\u001b[0;34m*\u001b[0m\u001b[0margs\u001b[0m\u001b[0;34m,\u001b[0m \u001b[0;34m**\u001b[0m\u001b[0mkwargs\u001b[0m\u001b[0;34m)\u001b[0m\u001b[0;34m\u001b[0m\u001b[0;34m\u001b[0m\u001b[0m\n",
      "\u001b[0;32m/usr/local/lib/python3.7/dist-packages/tensorflow/python/ops/variables.py\u001b[0m in \u001b[0;36m_variable_v2_call\u001b[0;34m(cls, initial_value, trainable, validate_shape, caching_device, name, variable_def, dtype, import_scope, constraint, synchronization, aggregation, shape)\u001b[0m\n\u001b[1;32m    253\u001b[0m         \u001b[0msynchronization\u001b[0m\u001b[0;34m=\u001b[0m\u001b[0msynchronization\u001b[0m\u001b[0;34m,\u001b[0m\u001b[0;34m\u001b[0m\u001b[0;34m\u001b[0m\u001b[0m\n\u001b[1;32m    254\u001b[0m         \u001b[0maggregation\u001b[0m\u001b[0;34m=\u001b[0m\u001b[0maggregation\u001b[0m\u001b[0;34m,\u001b[0m\u001b[0;34m\u001b[0m\u001b[0;34m\u001b[0m\u001b[0m\n\u001b[0;32m--> 255\u001b[0;31m         shape=shape)\n\u001b[0m\u001b[1;32m    256\u001b[0m \u001b[0;34m\u001b[0m\u001b[0m\n\u001b[1;32m    257\u001b[0m   \u001b[0;32mdef\u001b[0m \u001b[0m__call__\u001b[0m\u001b[0;34m(\u001b[0m\u001b[0mcls\u001b[0m\u001b[0;34m,\u001b[0m \u001b[0;34m*\u001b[0m\u001b[0margs\u001b[0m\u001b[0;34m,\u001b[0m \u001b[0;34m**\u001b[0m\u001b[0mkwargs\u001b[0m\u001b[0;34m)\u001b[0m\u001b[0;34m:\u001b[0m\u001b[0;34m\u001b[0m\u001b[0;34m\u001b[0m\u001b[0m\n",
      "\u001b[0;32m/usr/local/lib/python3.7/dist-packages/tensorflow/python/ops/variables.py\u001b[0m in \u001b[0;36m<lambda>\u001b[0;34m(**kws)\u001b[0m\n\u001b[1;32m    234\u001b[0m                         shape=None):\n\u001b[1;32m    235\u001b[0m     \u001b[0;34m\"\"\"Call on Variable class. Useful to force the signature.\"\"\"\u001b[0m\u001b[0;34m\u001b[0m\u001b[0;34m\u001b[0m\u001b[0m\n\u001b[0;32m--> 236\u001b[0;31m     \u001b[0mprevious_getter\u001b[0m \u001b[0;34m=\u001b[0m \u001b[0;32mlambda\u001b[0m \u001b[0;34m**\u001b[0m\u001b[0mkws\u001b[0m\u001b[0;34m:\u001b[0m \u001b[0mdefault_variable_creator_v2\u001b[0m\u001b[0;34m(\u001b[0m\u001b[0;32mNone\u001b[0m\u001b[0;34m,\u001b[0m \u001b[0;34m**\u001b[0m\u001b[0mkws\u001b[0m\u001b[0;34m)\u001b[0m\u001b[0;34m\u001b[0m\u001b[0;34m\u001b[0m\u001b[0m\n\u001b[0m\u001b[1;32m    237\u001b[0m     \u001b[0;32mfor\u001b[0m \u001b[0m_\u001b[0m\u001b[0;34m,\u001b[0m \u001b[0mgetter\u001b[0m \u001b[0;32min\u001b[0m \u001b[0mops\u001b[0m\u001b[0;34m.\u001b[0m\u001b[0mget_default_graph\u001b[0m\u001b[0;34m(\u001b[0m\u001b[0;34m)\u001b[0m\u001b[0;34m.\u001b[0m\u001b[0m_variable_creator_stack\u001b[0m\u001b[0;34m:\u001b[0m  \u001b[0;31m# pylint: disable=protected-access\u001b[0m\u001b[0;34m\u001b[0m\u001b[0;34m\u001b[0m\u001b[0m\n\u001b[1;32m    238\u001b[0m       \u001b[0mprevious_getter\u001b[0m \u001b[0;34m=\u001b[0m \u001b[0m_make_getter\u001b[0m\u001b[0;34m(\u001b[0m\u001b[0mgetter\u001b[0m\u001b[0;34m,\u001b[0m \u001b[0mprevious_getter\u001b[0m\u001b[0;34m)\u001b[0m\u001b[0;34m\u001b[0m\u001b[0;34m\u001b[0m\u001b[0m\n",
      "\u001b[0;32m/usr/local/lib/python3.7/dist-packages/tensorflow/python/ops/variable_scope.py\u001b[0m in \u001b[0;36mdefault_variable_creator_v2\u001b[0;34m(next_creator, **kwargs)\u001b[0m\n\u001b[1;32m   2542\u001b[0m       \u001b[0msynchronization\u001b[0m\u001b[0;34m=\u001b[0m\u001b[0msynchronization\u001b[0m\u001b[0;34m,\u001b[0m\u001b[0;34m\u001b[0m\u001b[0;34m\u001b[0m\u001b[0m\n\u001b[1;32m   2543\u001b[0m       \u001b[0maggregation\u001b[0m\u001b[0;34m=\u001b[0m\u001b[0maggregation\u001b[0m\u001b[0;34m,\u001b[0m\u001b[0;34m\u001b[0m\u001b[0;34m\u001b[0m\u001b[0m\n\u001b[0;32m-> 2544\u001b[0;31m       shape=shape)\n\u001b[0m\u001b[1;32m   2545\u001b[0m \u001b[0;34m\u001b[0m\u001b[0m\n\u001b[1;32m   2546\u001b[0m \u001b[0;34m\u001b[0m\u001b[0m\n",
      "\u001b[0;32m/usr/local/lib/python3.7/dist-packages/tensorflow/python/ops/variables.py\u001b[0m in \u001b[0;36m__call__\u001b[0;34m(cls, *args, **kwargs)\u001b[0m\n\u001b[1;32m    261\u001b[0m       \u001b[0;32mreturn\u001b[0m \u001b[0mcls\u001b[0m\u001b[0;34m.\u001b[0m\u001b[0m_variable_v2_call\u001b[0m\u001b[0;34m(\u001b[0m\u001b[0;34m*\u001b[0m\u001b[0margs\u001b[0m\u001b[0;34m,\u001b[0m \u001b[0;34m**\u001b[0m\u001b[0mkwargs\u001b[0m\u001b[0;34m)\u001b[0m\u001b[0;34m\u001b[0m\u001b[0;34m\u001b[0m\u001b[0m\n\u001b[1;32m    262\u001b[0m     \u001b[0;32melse\u001b[0m\u001b[0;34m:\u001b[0m\u001b[0;34m\u001b[0m\u001b[0;34m\u001b[0m\u001b[0m\n\u001b[0;32m--> 263\u001b[0;31m       \u001b[0;32mreturn\u001b[0m \u001b[0msuper\u001b[0m\u001b[0;34m(\u001b[0m\u001b[0mVariableMetaclass\u001b[0m\u001b[0;34m,\u001b[0m \u001b[0mcls\u001b[0m\u001b[0;34m)\u001b[0m\u001b[0;34m.\u001b[0m\u001b[0m__call__\u001b[0m\u001b[0;34m(\u001b[0m\u001b[0;34m*\u001b[0m\u001b[0margs\u001b[0m\u001b[0;34m,\u001b[0m \u001b[0;34m**\u001b[0m\u001b[0mkwargs\u001b[0m\u001b[0;34m)\u001b[0m\u001b[0;34m\u001b[0m\u001b[0;34m\u001b[0m\u001b[0m\n\u001b[0m\u001b[1;32m    264\u001b[0m \u001b[0;34m\u001b[0m\u001b[0m\n\u001b[1;32m    265\u001b[0m \u001b[0;34m\u001b[0m\u001b[0m\n",
      "\u001b[0;32m/usr/local/lib/python3.7/dist-packages/tensorflow/python/ops/resource_variable_ops.py\u001b[0m in \u001b[0;36m__init__\u001b[0;34m(self, initial_value, trainable, collections, validate_shape, caching_device, name, dtype, variable_def, import_scope, constraint, distribute_strategy, synchronization, aggregation, shape)\u001b[0m\n\u001b[1;32m    458\u001b[0m           \u001b[0msynchronization\u001b[0m\u001b[0;34m=\u001b[0m\u001b[0msynchronization\u001b[0m\u001b[0;34m,\u001b[0m\u001b[0;34m\u001b[0m\u001b[0;34m\u001b[0m\u001b[0m\n\u001b[1;32m    459\u001b[0m           \u001b[0maggregation\u001b[0m\u001b[0;34m=\u001b[0m\u001b[0maggregation\u001b[0m\u001b[0;34m,\u001b[0m\u001b[0;34m\u001b[0m\u001b[0;34m\u001b[0m\u001b[0m\n\u001b[0;32m--> 460\u001b[0;31m           shape=shape)\n\u001b[0m\u001b[1;32m    461\u001b[0m \u001b[0;34m\u001b[0m\u001b[0m\n\u001b[1;32m    462\u001b[0m   \u001b[0;32mdef\u001b[0m \u001b[0m__repr__\u001b[0m\u001b[0;34m(\u001b[0m\u001b[0mself\u001b[0m\u001b[0;34m)\u001b[0m\u001b[0;34m:\u001b[0m\u001b[0;34m\u001b[0m\u001b[0;34m\u001b[0m\u001b[0m\n",
      "\u001b[0;32m/usr/local/lib/python3.7/dist-packages/tensorflow/python/ops/resource_variable_ops.py\u001b[0m in \u001b[0;36m_init_from_args\u001b[0;34m(self, initial_value, trainable, collections, caching_device, name, dtype, constraint, synchronization, aggregation, shape)\u001b[0m\n\u001b[1;32m    641\u001b[0m                           \u001b[0mname\u001b[0m\u001b[0;34m,\u001b[0m\u001b[0;34m\u001b[0m\u001b[0;34m\u001b[0m\u001b[0m\n\u001b[1;32m    642\u001b[0m                           initial_value),\n\u001b[0;32m--> 643\u001b[0;31m                       name=n))\n\u001b[0m\u001b[1;32m    644\u001b[0m               \u001b[0;31m# pylint: enable=protected-access\u001b[0m\u001b[0;34m\u001b[0m\u001b[0;34m\u001b[0m\u001b[0;34m\u001b[0m\u001b[0m\n\u001b[1;32m    645\u001b[0m           \u001b[0;32mwith\u001b[0m \u001b[0mops\u001b[0m\u001b[0;34m.\u001b[0m\u001b[0mname_scope\u001b[0m\u001b[0;34m(\u001b[0m\u001b[0;34m\"Read\"\u001b[0m\u001b[0;34m)\u001b[0m\u001b[0;34m,\u001b[0m \u001b[0mops\u001b[0m\u001b[0;34m.\u001b[0m\u001b[0mcolocate_with\u001b[0m\u001b[0;34m(\u001b[0m\u001b[0mself\u001b[0m\u001b[0;34m.\u001b[0m\u001b[0m_handle\u001b[0m\u001b[0;34m)\u001b[0m\u001b[0;34m:\u001b[0m\u001b[0;34m\u001b[0m\u001b[0;34m\u001b[0m\u001b[0m\n",
      "\u001b[0;32m/usr/local/lib/python3.7/dist-packages/tensorflow/python/ops/gen_resource_variable_ops.py\u001b[0m in \u001b[0;36massign_variable_op\u001b[0;34m(resource, value, name)\u001b[0m\n\u001b[1;32m    194\u001b[0m   \u001b[0;31m# Add nodes to the TensorFlow graph.\u001b[0m\u001b[0;34m\u001b[0m\u001b[0;34m\u001b[0m\u001b[0;34m\u001b[0m\u001b[0m\n\u001b[1;32m    195\u001b[0m   _, _, _op = _op_def_lib._apply_op_helper(\n\u001b[0;32m--> 196\u001b[0;31m         \"AssignVariableOp\", resource=resource, value=value, name=name)\n\u001b[0m\u001b[1;32m    197\u001b[0m   \u001b[0;32mreturn\u001b[0m \u001b[0m_op\u001b[0m\u001b[0;34m\u001b[0m\u001b[0;34m\u001b[0m\u001b[0m\n\u001b[1;32m    198\u001b[0m   \u001b[0m_result\u001b[0m \u001b[0;34m=\u001b[0m \u001b[0;32mNone\u001b[0m\u001b[0;34m\u001b[0m\u001b[0;34m\u001b[0m\u001b[0m\n",
      "\u001b[0;32m/usr/local/lib/python3.7/dist-packages/tensorflow/python/framework/op_def_library.py\u001b[0m in \u001b[0;36m_apply_op_helper\u001b[0;34m(self, op_type_name, name, **keywords)\u001b[0m\n\u001b[1;32m    786\u001b[0m         op = g.create_op(op_type_name, inputs, dtypes=None, name=scope,\n\u001b[1;32m    787\u001b[0m                          \u001b[0minput_types\u001b[0m\u001b[0;34m=\u001b[0m\u001b[0minput_types\u001b[0m\u001b[0;34m,\u001b[0m \u001b[0mattrs\u001b[0m\u001b[0;34m=\u001b[0m\u001b[0mattr_protos\u001b[0m\u001b[0;34m,\u001b[0m\u001b[0;34m\u001b[0m\u001b[0;34m\u001b[0m\u001b[0m\n\u001b[0;32m--> 788\u001b[0;31m                          op_def=op_def)\n\u001b[0m\u001b[1;32m    789\u001b[0m       \u001b[0;32mreturn\u001b[0m \u001b[0moutput_structure\u001b[0m\u001b[0;34m,\u001b[0m \u001b[0mop_def\u001b[0m\u001b[0;34m.\u001b[0m\u001b[0mis_stateful\u001b[0m\u001b[0;34m,\u001b[0m \u001b[0mop\u001b[0m\u001b[0;34m\u001b[0m\u001b[0;34m\u001b[0m\u001b[0m\n\u001b[1;32m    790\u001b[0m \u001b[0;34m\u001b[0m\u001b[0m\n",
      "\u001b[0;32m/usr/local/lib/python3.7/dist-packages/tensorflow/python/util/deprecation.py\u001b[0m in \u001b[0;36mnew_func\u001b[0;34m(*args, **kwargs)\u001b[0m\n\u001b[1;32m    505\u001b[0m                 \u001b[0;34m'in a future version'\u001b[0m \u001b[0;32mif\u001b[0m \u001b[0mdate\u001b[0m \u001b[0;32mis\u001b[0m \u001b[0;32mNone\u001b[0m \u001b[0;32melse\u001b[0m \u001b[0;34m(\u001b[0m\u001b[0;34m'after %s'\u001b[0m \u001b[0;34m%\u001b[0m \u001b[0mdate\u001b[0m\u001b[0;34m)\u001b[0m\u001b[0;34m,\u001b[0m\u001b[0;34m\u001b[0m\u001b[0;34m\u001b[0m\u001b[0m\n\u001b[1;32m    506\u001b[0m                 instructions)\n\u001b[0;32m--> 507\u001b[0;31m       \u001b[0;32mreturn\u001b[0m \u001b[0mfunc\u001b[0m\u001b[0;34m(\u001b[0m\u001b[0;34m*\u001b[0m\u001b[0margs\u001b[0m\u001b[0;34m,\u001b[0m \u001b[0;34m**\u001b[0m\u001b[0mkwargs\u001b[0m\u001b[0;34m)\u001b[0m\u001b[0;34m\u001b[0m\u001b[0;34m\u001b[0m\u001b[0m\n\u001b[0m\u001b[1;32m    508\u001b[0m \u001b[0;34m\u001b[0m\u001b[0m\n\u001b[1;32m    509\u001b[0m     doc = _add_deprecated_arg_notice_to_docstring(\n",
      "\u001b[0;32m/usr/local/lib/python3.7/dist-packages/tensorflow/python/framework/ops.py\u001b[0m in \u001b[0;36mcreate_op\u001b[0;34m(***failed resolving arguments***)\u001b[0m\n\u001b[1;32m   3615\u001b[0m           \u001b[0moriginal_op\u001b[0m\u001b[0;34m=\u001b[0m\u001b[0mself\u001b[0m\u001b[0;34m.\u001b[0m\u001b[0m_default_original_op\u001b[0m\u001b[0;34m,\u001b[0m\u001b[0;34m\u001b[0m\u001b[0;34m\u001b[0m\u001b[0m\n\u001b[1;32m   3616\u001b[0m           op_def=op_def)\n\u001b[0;32m-> 3617\u001b[0;31m       \u001b[0mself\u001b[0m\u001b[0;34m.\u001b[0m\u001b[0m_create_op_helper\u001b[0m\u001b[0;34m(\u001b[0m\u001b[0mret\u001b[0m\u001b[0;34m,\u001b[0m \u001b[0mcompute_device\u001b[0m\u001b[0;34m=\u001b[0m\u001b[0mcompute_device\u001b[0m\u001b[0;34m)\u001b[0m\u001b[0;34m\u001b[0m\u001b[0;34m\u001b[0m\u001b[0m\n\u001b[0m\u001b[1;32m   3618\u001b[0m     \u001b[0;32mreturn\u001b[0m \u001b[0mret\u001b[0m\u001b[0;34m\u001b[0m\u001b[0;34m\u001b[0m\u001b[0m\n\u001b[1;32m   3619\u001b[0m \u001b[0;34m\u001b[0m\u001b[0m\n",
      "\u001b[0;32m/usr/local/lib/python3.7/dist-packages/tensorflow/python/framework/ops.py\u001b[0m in \u001b[0;36m_create_op_helper\u001b[0;34m(self, op, compute_device)\u001b[0m\n\u001b[1;32m   3700\u001b[0m       \u001b[0mall_colocation_groups\u001b[0m \u001b[0;34m=\u001b[0m \u001b[0;34m[\u001b[0m\u001b[0;34m]\u001b[0m\u001b[0;34m\u001b[0m\u001b[0;34m\u001b[0m\u001b[0m\n\u001b[1;32m   3701\u001b[0m       \u001b[0;32mfor\u001b[0m \u001b[0mcolocation_op\u001b[0m \u001b[0;32min\u001b[0m \u001b[0mself\u001b[0m\u001b[0;34m.\u001b[0m\u001b[0m_colocation_stack\u001b[0m\u001b[0;34m.\u001b[0m\u001b[0mpeek_objs\u001b[0m\u001b[0;34m(\u001b[0m\u001b[0;34m)\u001b[0m\u001b[0;34m:\u001b[0m\u001b[0;34m\u001b[0m\u001b[0;34m\u001b[0m\u001b[0m\n\u001b[0;32m-> 3702\u001b[0;31m         \u001b[0mall_colocation_groups\u001b[0m\u001b[0;34m.\u001b[0m\u001b[0mextend\u001b[0m\u001b[0;34m(\u001b[0m\u001b[0mcolocation_op\u001b[0m\u001b[0;34m.\u001b[0m\u001b[0mcolocation_groups\u001b[0m\u001b[0;34m(\u001b[0m\u001b[0;34m)\u001b[0m\u001b[0;34m)\u001b[0m\u001b[0;34m\u001b[0m\u001b[0;34m\u001b[0m\u001b[0m\n\u001b[0m\u001b[1;32m   3703\u001b[0m         \u001b[0;32mif\u001b[0m \u001b[0mcolocation_op\u001b[0m\u001b[0;34m.\u001b[0m\u001b[0mdevice\u001b[0m\u001b[0;34m:\u001b[0m\u001b[0;34m\u001b[0m\u001b[0;34m\u001b[0m\u001b[0m\n\u001b[1;32m   3704\u001b[0m           \u001b[0;31m# pylint: disable=protected-access\u001b[0m\u001b[0;34m\u001b[0m\u001b[0;34m\u001b[0m\u001b[0;34m\u001b[0m\u001b[0m\n",
      "\u001b[0;32m/usr/local/lib/python3.7/dist-packages/tensorflow/python/framework/ops.py\u001b[0m in \u001b[0;36mcolocation_groups\u001b[0;34m(self)\u001b[0m\n\u001b[1;32m   2091\u001b[0m   \u001b[0;32mdef\u001b[0m \u001b[0mcolocation_groups\u001b[0m\u001b[0;34m(\u001b[0m\u001b[0mself\u001b[0m\u001b[0;34m)\u001b[0m\u001b[0;34m:\u001b[0m\u001b[0;34m\u001b[0m\u001b[0;34m\u001b[0m\u001b[0m\n\u001b[1;32m   2092\u001b[0m     \u001b[0;34m\"\"\"Returns the list of colocation groups of the op.\"\"\"\u001b[0m\u001b[0;34m\u001b[0m\u001b[0;34m\u001b[0m\u001b[0m\n\u001b[0;32m-> 2093\u001b[0;31m     \u001b[0mdefault_colocation_group\u001b[0m \u001b[0;34m=\u001b[0m \u001b[0;34m[\u001b[0m\u001b[0mcompat\u001b[0m\u001b[0;34m.\u001b[0m\u001b[0mas_bytes\u001b[0m\u001b[0;34m(\u001b[0m\u001b[0;34m\"loc:@%s\"\u001b[0m \u001b[0;34m%\u001b[0m \u001b[0mself\u001b[0m\u001b[0;34m.\u001b[0m\u001b[0mname\u001b[0m\u001b[0;34m)\u001b[0m\u001b[0;34m]\u001b[0m\u001b[0;34m\u001b[0m\u001b[0;34m\u001b[0m\u001b[0m\n\u001b[0m\u001b[1;32m   2094\u001b[0m     \u001b[0;32mtry\u001b[0m\u001b[0;34m:\u001b[0m\u001b[0;34m\u001b[0m\u001b[0;34m\u001b[0m\u001b[0m\n\u001b[1;32m   2095\u001b[0m       \u001b[0mclass_attr\u001b[0m \u001b[0;34m=\u001b[0m \u001b[0mself\u001b[0m\u001b[0;34m.\u001b[0m\u001b[0mget_attr\u001b[0m\u001b[0;34m(\u001b[0m\u001b[0;34m\"_class\"\u001b[0m\u001b[0;34m)\u001b[0m\u001b[0;34m\u001b[0m\u001b[0;34m\u001b[0m\u001b[0m\n",
      "\u001b[0;32m/usr/local/lib/python3.7/dist-packages/tensorflow/python/util/compat.py\u001b[0m in \u001b[0;36mas_bytes\u001b[0;34m(bytes_or_text, encoding)\u001b[0m\n\u001b[1;32m     40\u001b[0m \u001b[0;34m\u001b[0m\u001b[0m\n\u001b[1;32m     41\u001b[0m \u001b[0;34m\u001b[0m\u001b[0m\n\u001b[0;32m---> 42\u001b[0;31m \u001b[0;32mdef\u001b[0m \u001b[0mas_bytes\u001b[0m\u001b[0;34m(\u001b[0m\u001b[0mbytes_or_text\u001b[0m\u001b[0;34m,\u001b[0m \u001b[0mencoding\u001b[0m\u001b[0;34m=\u001b[0m\u001b[0;34m'utf-8'\u001b[0m\u001b[0;34m)\u001b[0m\u001b[0;34m:\u001b[0m\u001b[0;34m\u001b[0m\u001b[0;34m\u001b[0m\u001b[0m\n\u001b[0m\u001b[1;32m     43\u001b[0m   \"\"\"Converts `bytearray`, `bytes`, or unicode python input types to `bytes`.\n\u001b[1;32m     44\u001b[0m \u001b[0;34m\u001b[0m\u001b[0m\n",
      "\u001b[0;31mKeyboardInterrupt\u001b[0m: "
     ]
    }
   ],
   "source": [
    "predict_matrix = main(dnn_input_data)\n"
   ]
  },
  {
   "cell_type": "code",
   "execution_count": null,
   "metadata": {},
   "outputs": [],
   "source": []
  }
 ],
 "metadata": {
  "kernelspec": {
   "display_name": "Python 3",
   "language": "python",
   "name": "python3"
  },
  "language_info": {
   "codemirror_mode": {
    "name": "ipython",
    "version": 3
   },
   "file_extension": ".py",
   "mimetype": "text/x-python",
   "name": "python",
   "nbconvert_exporter": "python",
   "pygments_lexer": "ipython3",
   "version": "3.7.8"
  },
  "toc": {
   "base_numbering": 1,
   "nav_menu": {},
   "number_sections": true,
   "sideBar": true,
   "skip_h1_title": false,
   "title_cell": "Table of Contents",
   "title_sidebar": "Contents",
   "toc_cell": false,
   "toc_position": {
    "height": "calc(100% - 180px)",
    "left": "10px",
    "top": "150px",
    "width": "384px"
   },
   "toc_section_display": true,
   "toc_window_display": true
  },
  "varInspector": {
   "cols": {
    "lenName": 16,
    "lenType": 16,
    "lenVar": 40
   },
   "kernels_config": {
    "python": {
     "delete_cmd_postfix": "",
     "delete_cmd_prefix": "del ",
     "library": "var_list.py",
     "varRefreshCmd": "print(var_dic_list())"
    },
    "r": {
     "delete_cmd_postfix": ") ",
     "delete_cmd_prefix": "rm(",
     "library": "var_list.r",
     "varRefreshCmd": "cat(var_dic_list()) "
    }
   },
   "position": {
    "height": "669px",
    "left": "1479px",
    "right": "20px",
    "top": "139px",
    "width": "381px"
   },
   "types_to_exclude": [
    "module",
    "function",
    "builtin_function_or_method",
    "instance",
    "_Feature"
   ],
   "window_display": true
  }
 },
 "nbformat": 4,
 "nbformat_minor": 4
}
